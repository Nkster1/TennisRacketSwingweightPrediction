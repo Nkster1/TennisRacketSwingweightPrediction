{
 "cells": [
  {
   "cell_type": "code",
   "execution_count": 2,
   "metadata": {
    "collapsed": true
   },
   "outputs": [],
   "source": [
    "import pandas as pd\n",
    "from sklearn.model_selection import train_test_split\n",
    "from sklearn.preprocessing import OneHotEncoder\n",
    "\n",
    "\n",
    "from sklearn import metrics\n",
    "import numpy as np\n",
    "\n",
    "def calculate_metrics(y_true, y_pred):\n",
    "    mae = metrics.mean_absolute_error(y_true, y_pred)\n",
    "    mse = metrics.mean_squared_error(y_true, y_pred)\n",
    "    med_ae = metrics.median_absolute_error(y_true, y_pred)\n",
    "\n",
    "    print(\"mean_absolute_error\", mae)\n",
    "    #print(\"mean_squared_error\", mse)\n",
    "    print(\"RMSE\", np.sqrt(mse))\n",
    "    print(\"median_absolute_error\", med_ae)"
   ]
  },
  {
   "cell_type": "code",
   "execution_count": 3,
   "outputs": [
    {
     "data": {
      "text/plain": "   index   pcode         mfg              racquet  headsize  length  weight  \\\n0      0     VS5       Volkl            V-Sense 5       100    27.0     276   \n1      1  U100UL      Wilson          Ultra 100UL       100    27.0     270   \n2      2  BULS1H      Wilson  Burn 100 ULS (2017)       100    27.0     281   \n3      3  YEZLLG       Yonex           Ezone Lite       100    27.0     282   \n4      4  TPS270  Tecnifibre       T-Flash PS 270       100    27.0     285   \n\n   balance  swingweight  flex  ...  hittingweight  vibration       filter  \\\n0     33.5          281    70  ...            114        164  21/2-effort   \n1     34.0          283    68  ...            116        164  21/2-effort   \n2     34.1          288    67  ...            119        158  21/2-effort   \n3     33.3          292    64  ...            119        156  21/2-effort   \n4     34.1          293    69  ...            119        160  21/2-effort   \n\n  distance  spin  angle  shotspeed swingspeed  plow  time  \n0     68.5  1596    3.6       64.5       51.4    37  0.89  \n1     68.5  1595    3.6       64.8       51.3    38  0.88  \n2     68.2  1579    3.4       65.2       51.0    39  0.87  \n3     68.1  1579    3.4       65.2       51.0    39  0.87  \n4     67.8  1570    3.5       64.9       50.7    39  0.87  \n\n[5 rows x 25 columns]",
      "text/html": "<div>\n<style scoped>\n    .dataframe tbody tr th:only-of-type {\n        vertical-align: middle;\n    }\n\n    .dataframe tbody tr th {\n        vertical-align: top;\n    }\n\n    .dataframe thead th {\n        text-align: right;\n    }\n</style>\n<table border=\"1\" class=\"dataframe\">\n  <thead>\n    <tr style=\"text-align: right;\">\n      <th></th>\n      <th>index</th>\n      <th>pcode</th>\n      <th>mfg</th>\n      <th>racquet</th>\n      <th>headsize</th>\n      <th>length</th>\n      <th>weight</th>\n      <th>balance</th>\n      <th>swingweight</th>\n      <th>flex</th>\n      <th>...</th>\n      <th>hittingweight</th>\n      <th>vibration</th>\n      <th>filter</th>\n      <th>distance</th>\n      <th>spin</th>\n      <th>angle</th>\n      <th>shotspeed</th>\n      <th>swingspeed</th>\n      <th>plow</th>\n      <th>time</th>\n    </tr>\n  </thead>\n  <tbody>\n    <tr>\n      <th>0</th>\n      <td>0</td>\n      <td>VS5</td>\n      <td>Volkl</td>\n      <td>V-Sense 5</td>\n      <td>100</td>\n      <td>27.0</td>\n      <td>276</td>\n      <td>33.5</td>\n      <td>281</td>\n      <td>70</td>\n      <td>...</td>\n      <td>114</td>\n      <td>164</td>\n      <td>21/2-effort</td>\n      <td>68.5</td>\n      <td>1596</td>\n      <td>3.6</td>\n      <td>64.5</td>\n      <td>51.4</td>\n      <td>37</td>\n      <td>0.89</td>\n    </tr>\n    <tr>\n      <th>1</th>\n      <td>1</td>\n      <td>U100UL</td>\n      <td>Wilson</td>\n      <td>Ultra 100UL</td>\n      <td>100</td>\n      <td>27.0</td>\n      <td>270</td>\n      <td>34.0</td>\n      <td>283</td>\n      <td>68</td>\n      <td>...</td>\n      <td>116</td>\n      <td>164</td>\n      <td>21/2-effort</td>\n      <td>68.5</td>\n      <td>1595</td>\n      <td>3.6</td>\n      <td>64.8</td>\n      <td>51.3</td>\n      <td>38</td>\n      <td>0.88</td>\n    </tr>\n    <tr>\n      <th>2</th>\n      <td>2</td>\n      <td>BULS1H</td>\n      <td>Wilson</td>\n      <td>Burn 100 ULS (2017)</td>\n      <td>100</td>\n      <td>27.0</td>\n      <td>281</td>\n      <td>34.1</td>\n      <td>288</td>\n      <td>67</td>\n      <td>...</td>\n      <td>119</td>\n      <td>158</td>\n      <td>21/2-effort</td>\n      <td>68.2</td>\n      <td>1579</td>\n      <td>3.4</td>\n      <td>65.2</td>\n      <td>51.0</td>\n      <td>39</td>\n      <td>0.87</td>\n    </tr>\n    <tr>\n      <th>3</th>\n      <td>3</td>\n      <td>YEZLLG</td>\n      <td>Yonex</td>\n      <td>Ezone Lite</td>\n      <td>100</td>\n      <td>27.0</td>\n      <td>282</td>\n      <td>33.3</td>\n      <td>292</td>\n      <td>64</td>\n      <td>...</td>\n      <td>119</td>\n      <td>156</td>\n      <td>21/2-effort</td>\n      <td>68.1</td>\n      <td>1579</td>\n      <td>3.4</td>\n      <td>65.2</td>\n      <td>51.0</td>\n      <td>39</td>\n      <td>0.87</td>\n    </tr>\n    <tr>\n      <th>4</th>\n      <td>4</td>\n      <td>TPS270</td>\n      <td>Tecnifibre</td>\n      <td>T-Flash PS 270</td>\n      <td>100</td>\n      <td>27.0</td>\n      <td>285</td>\n      <td>34.1</td>\n      <td>293</td>\n      <td>69</td>\n      <td>...</td>\n      <td>119</td>\n      <td>160</td>\n      <td>21/2-effort</td>\n      <td>67.8</td>\n      <td>1570</td>\n      <td>3.5</td>\n      <td>64.9</td>\n      <td>50.7</td>\n      <td>39</td>\n      <td>0.87</td>\n    </tr>\n  </tbody>\n</table>\n<p>5 rows × 25 columns</p>\n</div>"
     },
     "execution_count": 3,
     "metadata": {},
     "output_type": "execute_result"
    }
   ],
   "source": [
    "data = pd.read_csv(\"./racquets.csv\")\n",
    "\n",
    "data.head()"
   ],
   "metadata": {
    "collapsed": false,
    "pycharm": {
     "name": "#%%\n"
    }
   }
  },
  {
   "cell_type": "code",
   "execution_count": 4,
   "outputs": [],
   "source": [
    "from sklearn.compose import make_column_transformer\n",
    "from sklearn.pipeline import make_pipeline\n",
    "from sklearn.preprocessing import PolynomialFeatures\n",
    "\n",
    "\n",
    "numeric_features = ['weight', 'balance', 'length']\n",
    "categorical_features = ['mfg']\n",
    "\n",
    "\n",
    "swingweight_prediction_frame = pd.concat([data[numeric_features], pd.get_dummies(data[categorical_features])],axis=1)\n",
    "swingweight_prediction_frame['weight:length'] = swingweight_prediction_frame['weight'] * swingweight_prediction_frame['length']\n",
    "swingweight_prediction_frame['weight:balance'] = swingweight_prediction_frame['weight'] * swingweight_prediction_frame['balance']\n",
    "swingweight_prediction_frame['length:balance'] = swingweight_prediction_frame['length'] * swingweight_prediction_frame['balance']\n",
    "\n",
    "X = swingweight_prediction_frame\n",
    "y = data['swingweight']\n",
    "\n",
    "X_train, X_test, y_train, y_test = train_test_split(X, y, random_state=42, train_size=0.9)"
   ],
   "metadata": {
    "collapsed": false,
    "pycharm": {
     "name": "#%%\n"
    }
   }
  },
  {
   "cell_type": "code",
   "execution_count": 5,
   "outputs": [
    {
     "data": {
      "text/plain": "     weight  balance  length  mfg_Babolat  mfg_Dunlop  mfg_Head  mfg_Lacoste  \\\n68      283     35.0    27.2            0           0         1            0   \n197     314     33.5    27.5            0           0         0            0   \n15      295     33.0    27.0            0           0         0            0   \n30      293     33.1    27.0            0           0         1            0   \n172     318     33.5    27.0            0           0         0            0   \n..      ...      ...     ...          ...         ...       ...          ...   \n20      281     34.8    27.0            0           0         1            0   \n188     340     32.5    27.0            0           0         1            0   \n71      309     32.0    27.0            0           0         0            0   \n106     318     33.0    27.0            0           0         0            0   \n102     318     33.0    27.0            0           0         0            0   \n\n     mfg_Prince  mfg_Pro Kennex  mfg_ProKennex  mfg_Tecnifibre  mfg_Volkl  \\\n68            0               0              0               0          0   \n197           0               0              0               0          0   \n15            0               0              0               0          0   \n30            0               0              0               0          0   \n172           0               0              0               0          0   \n..          ...             ...            ...             ...        ...   \n20            0               0              0               0          0   \n188           0               0              0               0          0   \n71            0               0              0               0          0   \n106           0               0              0               0          0   \n102           0               0              0               0          0   \n\n     mfg_Wilson  mfg_Yonex  weight:length  weight:balance  length:balance  \n68            0          0         7697.6          9905.0          952.00  \n197           0          1         8635.0         10519.0          921.25  \n15            0          1         7965.0          9735.0          891.00  \n30            0          0         7911.0          9698.3          893.70  \n172           1          0         8586.0         10653.0          904.50  \n..          ...        ...            ...             ...             ...  \n20            0          0         7587.0          9778.8          939.60  \n188           0          0         9180.0         11050.0          877.50  \n71            1          0         8343.0          9888.0          864.00  \n106           1          0         8586.0         10494.0          891.00  \n102           0          1         8586.0         10494.0          891.00  \n\n[236 rows x 17 columns]",
      "text/html": "<div>\n<style scoped>\n    .dataframe tbody tr th:only-of-type {\n        vertical-align: middle;\n    }\n\n    .dataframe tbody tr th {\n        vertical-align: top;\n    }\n\n    .dataframe thead th {\n        text-align: right;\n    }\n</style>\n<table border=\"1\" class=\"dataframe\">\n  <thead>\n    <tr style=\"text-align: right;\">\n      <th></th>\n      <th>weight</th>\n      <th>balance</th>\n      <th>length</th>\n      <th>mfg_Babolat</th>\n      <th>mfg_Dunlop</th>\n      <th>mfg_Head</th>\n      <th>mfg_Lacoste</th>\n      <th>mfg_Prince</th>\n      <th>mfg_Pro Kennex</th>\n      <th>mfg_ProKennex</th>\n      <th>mfg_Tecnifibre</th>\n      <th>mfg_Volkl</th>\n      <th>mfg_Wilson</th>\n      <th>mfg_Yonex</th>\n      <th>weight:length</th>\n      <th>weight:balance</th>\n      <th>length:balance</th>\n    </tr>\n  </thead>\n  <tbody>\n    <tr>\n      <th>68</th>\n      <td>283</td>\n      <td>35.0</td>\n      <td>27.2</td>\n      <td>0</td>\n      <td>0</td>\n      <td>1</td>\n      <td>0</td>\n      <td>0</td>\n      <td>0</td>\n      <td>0</td>\n      <td>0</td>\n      <td>0</td>\n      <td>0</td>\n      <td>0</td>\n      <td>7697.6</td>\n      <td>9905.0</td>\n      <td>952.00</td>\n    </tr>\n    <tr>\n      <th>197</th>\n      <td>314</td>\n      <td>33.5</td>\n      <td>27.5</td>\n      <td>0</td>\n      <td>0</td>\n      <td>0</td>\n      <td>0</td>\n      <td>0</td>\n      <td>0</td>\n      <td>0</td>\n      <td>0</td>\n      <td>0</td>\n      <td>0</td>\n      <td>1</td>\n      <td>8635.0</td>\n      <td>10519.0</td>\n      <td>921.25</td>\n    </tr>\n    <tr>\n      <th>15</th>\n      <td>295</td>\n      <td>33.0</td>\n      <td>27.0</td>\n      <td>0</td>\n      <td>0</td>\n      <td>0</td>\n      <td>0</td>\n      <td>0</td>\n      <td>0</td>\n      <td>0</td>\n      <td>0</td>\n      <td>0</td>\n      <td>0</td>\n      <td>1</td>\n      <td>7965.0</td>\n      <td>9735.0</td>\n      <td>891.00</td>\n    </tr>\n    <tr>\n      <th>30</th>\n      <td>293</td>\n      <td>33.1</td>\n      <td>27.0</td>\n      <td>0</td>\n      <td>0</td>\n      <td>1</td>\n      <td>0</td>\n      <td>0</td>\n      <td>0</td>\n      <td>0</td>\n      <td>0</td>\n      <td>0</td>\n      <td>0</td>\n      <td>0</td>\n      <td>7911.0</td>\n      <td>9698.3</td>\n      <td>893.70</td>\n    </tr>\n    <tr>\n      <th>172</th>\n      <td>318</td>\n      <td>33.5</td>\n      <td>27.0</td>\n      <td>0</td>\n      <td>0</td>\n      <td>0</td>\n      <td>0</td>\n      <td>0</td>\n      <td>0</td>\n      <td>0</td>\n      <td>0</td>\n      <td>0</td>\n      <td>1</td>\n      <td>0</td>\n      <td>8586.0</td>\n      <td>10653.0</td>\n      <td>904.50</td>\n    </tr>\n    <tr>\n      <th>...</th>\n      <td>...</td>\n      <td>...</td>\n      <td>...</td>\n      <td>...</td>\n      <td>...</td>\n      <td>...</td>\n      <td>...</td>\n      <td>...</td>\n      <td>...</td>\n      <td>...</td>\n      <td>...</td>\n      <td>...</td>\n      <td>...</td>\n      <td>...</td>\n      <td>...</td>\n      <td>...</td>\n      <td>...</td>\n    </tr>\n    <tr>\n      <th>20</th>\n      <td>281</td>\n      <td>34.8</td>\n      <td>27.0</td>\n      <td>0</td>\n      <td>0</td>\n      <td>1</td>\n      <td>0</td>\n      <td>0</td>\n      <td>0</td>\n      <td>0</td>\n      <td>0</td>\n      <td>0</td>\n      <td>0</td>\n      <td>0</td>\n      <td>7587.0</td>\n      <td>9778.8</td>\n      <td>939.60</td>\n    </tr>\n    <tr>\n      <th>188</th>\n      <td>340</td>\n      <td>32.5</td>\n      <td>27.0</td>\n      <td>0</td>\n      <td>0</td>\n      <td>1</td>\n      <td>0</td>\n      <td>0</td>\n      <td>0</td>\n      <td>0</td>\n      <td>0</td>\n      <td>0</td>\n      <td>0</td>\n      <td>0</td>\n      <td>9180.0</td>\n      <td>11050.0</td>\n      <td>877.50</td>\n    </tr>\n    <tr>\n      <th>71</th>\n      <td>309</td>\n      <td>32.0</td>\n      <td>27.0</td>\n      <td>0</td>\n      <td>0</td>\n      <td>0</td>\n      <td>0</td>\n      <td>0</td>\n      <td>0</td>\n      <td>0</td>\n      <td>0</td>\n      <td>0</td>\n      <td>1</td>\n      <td>0</td>\n      <td>8343.0</td>\n      <td>9888.0</td>\n      <td>864.00</td>\n    </tr>\n    <tr>\n      <th>106</th>\n      <td>318</td>\n      <td>33.0</td>\n      <td>27.0</td>\n      <td>0</td>\n      <td>0</td>\n      <td>0</td>\n      <td>0</td>\n      <td>0</td>\n      <td>0</td>\n      <td>0</td>\n      <td>0</td>\n      <td>0</td>\n      <td>1</td>\n      <td>0</td>\n      <td>8586.0</td>\n      <td>10494.0</td>\n      <td>891.00</td>\n    </tr>\n    <tr>\n      <th>102</th>\n      <td>318</td>\n      <td>33.0</td>\n      <td>27.0</td>\n      <td>0</td>\n      <td>0</td>\n      <td>0</td>\n      <td>0</td>\n      <td>0</td>\n      <td>0</td>\n      <td>0</td>\n      <td>0</td>\n      <td>0</td>\n      <td>0</td>\n      <td>1</td>\n      <td>8586.0</td>\n      <td>10494.0</td>\n      <td>891.00</td>\n    </tr>\n  </tbody>\n</table>\n<p>236 rows × 17 columns</p>\n</div>"
     },
     "execution_count": 5,
     "metadata": {},
     "output_type": "execute_result"
    }
   ],
   "source": [
    "X_train"
   ],
   "metadata": {
    "collapsed": false,
    "pycharm": {
     "name": "#%%\n"
    }
   }
  },
  {
   "cell_type": "markdown",
   "source": [
    "# OLS"
   ],
   "metadata": {
    "collapsed": false,
    "pycharm": {
     "name": "#%% md\n"
    }
   }
  },
  {
   "cell_type": "code",
   "execution_count": 8,
   "outputs": [],
   "source": [
    "%matplotlib inline\n",
    "import matplotlib.pyplot as plt\n",
    "import numpy as np\n",
    "import statsmodels.api as sm\n",
    "import statsmodels.formula.api as smf\n",
    "\n",
    "\n",
    "np.random.seed(9876789)"
   ],
   "metadata": {
    "collapsed": false,
    "pycharm": {
     "name": "#%%\n"
    }
   }
  },
  {
   "cell_type": "code",
   "execution_count": 9,
   "outputs": [
    {
     "name": "stdout",
     "output_type": "stream",
     "text": [
      "                            OLS Regression Results                            \n",
      "==============================================================================\n",
      "Dep. Variable:            swingweight   R-squared:                       0.792\n",
      "Model:                            OLS   Adj. R-squared:                  0.777\n",
      "Method:                 Least Squares   F-statistic:                     52.26\n",
      "Date:                Fri, 18 Feb 2022   Prob (F-statistic):           1.61e-65\n",
      "Time:                        15:59:13   Log-Likelihood:                -734.23\n",
      "No. Observations:                 236   AIC:                             1502.\n",
      "Df Residuals:                     219   BIC:                             1561.\n",
      "Df Model:                          16                                         \n",
      "Covariance Type:            nonrobust                                         \n",
      "==================================================================================\n",
      "                     coef    std err          t      P>|t|      [0.025      0.975]\n",
      "----------------------------------------------------------------------------------\n",
      "const          -5969.8211   3417.702     -1.747      0.082   -1.27e+04     765.975\n",
      "weight             7.4449      4.144      1.797      0.074      -0.722      15.612\n",
      "balance          116.1651     80.064      1.451      0.148     -41.630     273.960\n",
      "length           241.4993    135.438      1.783      0.076     -25.430     508.429\n",
      "mfg_Babolat     -543.3526    311.184     -1.746      0.082   -1156.651      69.946\n",
      "mfg_Dunlop      -545.3403    310.629     -1.756      0.081   -1157.545      66.865\n",
      "mfg_Head        -542.7560    310.704     -1.747      0.082   -1155.109      69.597\n",
      "mfg_Lacoste     -539.3514    309.978     -1.740      0.083   -1150.273      71.570\n",
      "mfg_Prince      -540.2446    310.700     -1.739      0.083   -1152.588      72.099\n",
      "mfg_Pro Kennex  -538.0373    310.958     -1.730      0.085   -1150.890      74.815\n",
      "mfg_ProKennex   -541.4756    310.991     -1.741      0.083   -1154.393      71.442\n",
      "mfg_Tecnifibre  -547.1985    310.717     -1.761      0.080   -1159.576      65.179\n",
      "mfg_Volkl       -548.0622    310.685     -1.764      0.079   -1160.378      64.254\n",
      "mfg_Wilson      -542.2996    310.630     -1.746      0.082   -1154.506      69.907\n",
      "mfg_Yonex       -541.7030    310.622     -1.744      0.083   -1153.894      70.488\n",
      "weight:length     -0.2705      0.154     -1.752      0.081      -0.575       0.034\n",
      "weight:balance     0.0198      0.019      1.059      0.291      -0.017       0.057\n",
      "length:balance    -4.2356      2.854     -1.484      0.139      -9.860       1.389\n",
      "==============================================================================\n",
      "Omnibus:                        2.738   Durbin-Watson:                   2.103\n",
      "Prob(Omnibus):                  0.254   Jarque-Bera (JB):                2.860\n",
      "Skew:                          -0.049   Prob(JB):                        0.239\n",
      "Kurtosis:                       3.530   Cond. No.                     2.17e+20\n",
      "==============================================================================\n",
      "\n",
      "Notes:\n",
      "[1] Standard Errors assume that the covariance matrix of the errors is correctly specified.\n",
      "[2] The smallest eigenvalue is 8.99e-31. This might indicate that there are\n",
      "strong multicollinearity problems or that the design matrix is singular.\n"
     ]
    }
   ],
   "source": [
    "X_train = sm.add_constant(X_train)\n",
    "model = sm.OLS(y_train, X_train)\n",
    "#model = smf.ols(\"swingweight ~ .\", data=)\n",
    "\n",
    "predictor = model.fit()\n",
    "\n",
    "print(predictor.summary())"
   ],
   "metadata": {
    "collapsed": false,
    "pycharm": {
     "name": "#%%\n"
    }
   }
  },
  {
   "cell_type": "code",
   "execution_count": 10,
   "outputs": [
    {
     "name": "stdout",
     "output_type": "stream",
     "text": [
      "R2:  0.7924474151558212\n"
     ]
    }
   ],
   "source": [
    "print(\"R2: \", predictor.rsquared)"
   ],
   "metadata": {
    "collapsed": false,
    "pycharm": {
     "name": "#%%\n"
    }
   }
  },
  {
   "cell_type": "code",
   "execution_count": 11,
   "outputs": [],
   "source": [
    "pred_ols = predictor.get_prediction()\n",
    "iv_l = pred_ols.summary_frame()[\"obs_ci_lower\"]\n",
    "iv_u = pred_ols.summary_frame()[\"obs_ci_upper\"]\n"
   ],
   "metadata": {
    "collapsed": false,
    "pycharm": {
     "name": "#%%\n"
    }
   }
  },
  {
   "cell_type": "code",
   "execution_count": 12,
   "outputs": [
    {
     "name": "stdout",
     "output_type": "stream",
     "text": [
      "mean_absolute_error 4.153144189468616\n",
      "RMSE 5.609549547100251\n",
      "median_absolute_error 2.323876980595287\n"
     ]
    }
   ],
   "source": [
    "X_test = sm.add_constant(X_test)\n",
    "y_pred = predictor.predict(X_test)\n",
    "calculate_metrics(y_test, y_pred)\n"
   ],
   "metadata": {
    "collapsed": false,
    "pycharm": {
     "name": "#%%\n"
    }
   }
  },
  {
   "cell_type": "code",
   "execution_count": 13,
   "outputs": [
    {
     "data": {
      "text/plain": "<Figure size 576x432 with 1 Axes>",
      "image/png": "[encoded data removed]"
     },
     "metadata": {
      "needs_background": "light"
     },
     "output_type": "display_data"
    }
   ],
   "source": [
    "from statsmodels.graphics.regressionplots import plot_leverage_resid2\n",
    "\n",
    "fig, ax = plt.subplots(figsize=(8, 6))\n",
    "fig = plot_leverage_resid2(predictor, ax=ax)"
   ],
   "metadata": {
    "collapsed": false,
    "pycharm": {
     "name": "#%%\n"
    }
   }
  },
  {
   "cell_type": "markdown",
   "source": [
    "#  WLS"
   ],
   "metadata": {
    "collapsed": false,
    "pycharm": {
     "name": "#%% md\n"
    }
   }
  },
  {
   "cell_type": "code",
   "execution_count": 16,
   "outputs": [
    {
     "name": "stdout",
     "output_type": "stream",
     "text": [
      "                            WLS Regression Results                            \n",
      "==============================================================================\n",
      "Dep. Variable:            swingweight   R-squared:                       0.792\n",
      "Model:                            WLS   Adj. R-squared:                  0.777\n",
      "Method:                 Least Squares   F-statistic:                     52.26\n",
      "Date:                Fri, 18 Feb 2022   Prob (F-statistic):           1.61e-65\n",
      "Time:                        15:59:32   Log-Likelihood:                -734.23\n",
      "No. Observations:                 236   AIC:                             1502.\n",
      "Df Residuals:                     219   BIC:                             1561.\n",
      "Df Model:                          16                                         \n",
      "Covariance Type:            nonrobust                                         \n",
      "==================================================================================\n",
      "                     coef    std err          t      P>|t|      [0.025      0.975]\n",
      "----------------------------------------------------------------------------------\n",
      "const          -5969.8211   3417.702     -1.747      0.082   -1.27e+04     765.975\n",
      "weight             7.4449      4.144      1.797      0.074      -0.722      15.612\n",
      "balance          116.1651     80.064      1.451      0.148     -41.630     273.960\n",
      "length           241.4993    135.438      1.783      0.076     -25.430     508.429\n",
      "mfg_Babolat     -543.3526    311.184     -1.746      0.082   -1156.651      69.946\n",
      "mfg_Dunlop      -545.3403    310.629     -1.756      0.081   -1157.545      66.865\n",
      "mfg_Head        -542.7560    310.704     -1.747      0.082   -1155.109      69.597\n",
      "mfg_Lacoste     -539.3514    309.978     -1.740      0.083   -1150.273      71.570\n",
      "mfg_Prince      -540.2446    310.700     -1.739      0.083   -1152.588      72.099\n",
      "mfg_Pro Kennex  -538.0373    310.958     -1.730      0.085   -1150.890      74.815\n",
      "mfg_ProKennex   -541.4756    310.991     -1.741      0.083   -1154.393      71.442\n",
      "mfg_Tecnifibre  -547.1985    310.717     -1.761      0.080   -1159.576      65.179\n",
      "mfg_Volkl       -548.0622    310.685     -1.764      0.079   -1160.378      64.254\n",
      "mfg_Wilson      -542.2996    310.630     -1.746      0.082   -1154.506      69.907\n",
      "mfg_Yonex       -541.7030    310.622     -1.744      0.083   -1153.894      70.488\n",
      "weight:length     -0.2705      0.154     -1.752      0.081      -0.575       0.034\n",
      "weight:balance     0.0198      0.019      1.059      0.291      -0.017       0.057\n",
      "length:balance    -4.2356      2.854     -1.484      0.139      -9.860       1.389\n",
      "==============================================================================\n",
      "Omnibus:                        2.738   Durbin-Watson:                   2.103\n",
      "Prob(Omnibus):                  0.254   Jarque-Bera (JB):                2.860\n",
      "Skew:                          -0.049   Prob(JB):                        0.239\n",
      "Kurtosis:                       3.530   Cond. No.                     2.17e+20\n",
      "==============================================================================\n",
      "\n",
      "Notes:\n",
      "[1] Standard Errors assume that the covariance matrix of the errors is correctly specified.\n",
      "[2] The smallest eigenvalue is 8.99e-31. This might indicate that there are\n",
      "strong multicollinearity problems or that the design matrix is singular.\n"
     ]
    }
   ],
   "source": [
    "w  = np.ones(len(X_train))\n",
    "\n",
    "mod_wls = sm.WLS(y_train, X_train, weights=1.0 / (w ** 2))\n",
    "res_wls = mod_wls.fit()\n",
    "print(res_wls.summary())"
   ],
   "metadata": {
    "collapsed": false,
    "pycharm": {
     "name": "#%%\n"
    }
   }
  },
  {
   "cell_type": "code",
   "execution_count": 17,
   "outputs": [
    {
     "name": "stdout",
     "output_type": "stream",
     "text": [
      "R2:  0.7924474151558212\n",
      "mean_absolute_error 4.153144189468616\n",
      "RMSE 5.609549547100251\n",
      "median_absolute_error 2.323876980595287\n"
     ]
    }
   ],
   "source": [
    "print(\"R2: \", res_wls.rsquared)\n",
    "y_pred = res_wls.predict(X_test)\n",
    "calculate_metrics(y_test, y_pred)"
   ],
   "metadata": {
    "collapsed": false,
    "pycharm": {
     "name": "#%%\n"
    }
   }
  },
  {
   "cell_type": "markdown",
   "source": [
    "# RLM"
   ],
   "metadata": {
    "collapsed": false,
    "pycharm": {
     "name": "#%% md\n"
    }
   }
  },
  {
   "cell_type": "code",
   "execution_count": 19,
   "outputs": [
    {
     "name": "stdout",
     "output_type": "stream",
     "text": [
      "                    Robust linear Model Regression Results                    \n",
      "==============================================================================\n",
      "Dep. Variable:            swingweight   No. Observations:                  236\n",
      "Model:                            RLM   Df Residuals:                      219\n",
      "Method:                          IRLS   Df Model:                           16\n",
      "Norm:                          HuberT                                         \n",
      "Scale Est.:                       mad                                         \n",
      "Cov Type:                          H1                                         \n",
      "Date:                Fri, 18 Feb 2022                                         \n",
      "Time:                        15:59:56                                         \n",
      "No. Iterations:                    16                                         \n",
      "==================================================================================\n",
      "                     coef    std err          z      P>|z|      [0.025      0.975]\n",
      "----------------------------------------------------------------------------------\n",
      "const          -5657.1086   3289.797     -1.720      0.086   -1.21e+04     790.775\n",
      "weight             7.6833      3.989      1.926      0.054      -0.134      15.501\n",
      "balance          102.2340     77.068      1.327      0.185     -48.817     253.285\n",
      "length           230.9453    130.370      1.771      0.076     -24.575     486.465\n",
      "mfg_Babolat     -515.2594    299.538     -1.720      0.085   -1102.343      71.825\n",
      "mfg_Dunlop      -517.2035    299.004     -1.730      0.084   -1103.241      68.834\n",
      "mfg_Head        -514.2879    299.076     -1.720      0.086   -1100.466      71.891\n",
      "mfg_Lacoste     -510.5917    298.377     -1.711      0.087   -1095.400      74.216\n",
      "mfg_Prince      -511.5925    299.072     -1.711      0.087   -1097.762      74.577\n",
      "mfg_Pro Kennex  -509.5269    299.320     -1.702      0.089   -1096.184      77.130\n",
      "mfg_ProKennex   -512.7798    299.352     -1.713      0.087   -1099.499      73.939\n",
      "mfg_Tecnifibre  -518.5944    299.088     -1.734      0.083   -1104.797      67.608\n",
      "mfg_Volkl       -519.6963    299.058     -1.738      0.082   -1105.840      66.447\n",
      "mfg_Wilson      -514.2774    299.005     -1.720      0.085   -1100.316      71.761\n",
      "mfg_Yonex       -513.2987    298.997     -1.717      0.086   -1099.323      72.725\n",
      "weight:length     -0.2875      0.149     -1.935      0.053      -0.579       0.004\n",
      "weight:balance     0.0270      0.018      1.498      0.134      -0.008       0.062\n",
      "length:balance    -3.7878      2.747     -1.379      0.168      -9.172       1.596\n",
      "==================================================================================\n",
      "\n",
      "If the model instance has been used for another fit with different fit parameters, then the fit options might not be the correct ones anymore .\n"
     ]
    }
   ],
   "source": [
    "mod_rlm = sm.RLM(y_train, X_train)\n",
    "res_rlm = mod_rlm.fit()\n",
    "print(res_rlm.summary())"
   ],
   "metadata": {
    "collapsed": false,
    "pycharm": {
     "name": "#%%\n"
    }
   }
  },
  {
   "cell_type": "code",
   "execution_count": 22,
   "outputs": [
    {
     "name": "stdout",
     "output_type": "stream",
     "text": [
      "mean_absolute_error 4.123252284874895\n",
      "RMSE 5.707920815851602\n",
      "median_absolute_error 2.230322627323403\n"
     ]
    }
   ],
   "source": [
    "y_pred = res_rlm.predict(X_test)\n",
    "calculate_metrics(y_test, y_pred)"
   ],
   "metadata": {
    "collapsed": false,
    "pycharm": {
     "name": "#%%\n"
    }
   }
  },
  {
   "cell_type": "code",
   "execution_count": 28,
   "outputs": [],
   "source": [],
   "metadata": {
    "collapsed": false,
    "pycharm": {
     "name": "#%%\n"
    }
   }
  },
  {
   "cell_type": "code",
   "execution_count": 29,
   "outputs": [
    {
     "name": "stdout",
     "output_type": "stream",
     "text": [
      "mean_absolute_error 4.108149959364139\n",
      "RMSE 5.787481982442526\n",
      "median_absolute_error 2.9496295043040845\n"
     ]
    }
   ],
   "source": [
    "from sklearn.linear_model import QuantileRegressor\n",
    "\n",
    "qr_sklearn = QuantileRegressor().fit(X_train, y_train)\n",
    "y_pred = qr_sklearn.predict(X_test)\n",
    "calculate_metrics(y_test, y_pred)\n"
   ],
   "metadata": {
    "collapsed": false,
    "pycharm": {
     "name": "#%%\n"
    }
   }
  },
  {
   "cell_type": "code",
   "execution_count": null,
   "outputs": [],
   "source": [],
   "metadata": {
    "collapsed": false,
    "pycharm": {
     "name": "#%%\n"
    }
   }
  }
 ],
 "metadata": {
  "kernelspec": {
   "display_name": "Python 3",
   "language": "python",
   "name": "python3"
  },
  "language_info": {
   "codemirror_mode": {
    "name": "ipython",
    "version": 2
   },
   "file_extension": ".py",
   "mimetype": "text/x-python",
   "name": "python",
   "nbconvert_exporter": "python",
   "pygments_lexer": "ipython2",
   "version": "2.7.6"
  }
 },
 "nbformat": 4,
 "nbformat_minor": 0
}