{
 "cells": [
  {
   "cell_type": "code",
   "execution_count": 1,
   "metadata": {},
   "outputs": [],
   "source": [
    "import json\n",
    "import pandas as pd"
   ]
  },
  {
   "cell_type": "code",
   "execution_count": 2,
   "metadata": {},
   "outputs": [],
   "source": [
    "with open(\"rackets_full.json\", \"r\") as f:  \n",
    "    data = json.load(f)\n",
    "    "
   ]
  },
  {
   "cell_type": "code",
   "execution_count": 3,
   "metadata": {},
   "outputs": [],
   "source": [
    "log_data_entries = data['log']['entries']\n",
    "racquet_data = []\n",
    "\n",
    "for ele in log_data_entries:\n",
    "    text_response = ele['response']['content']['text']\n",
    "    if text_response[:10] == '{\"pcode\":\"':\n",
    "        racquet_data.append(json.loads(text_response))\n",
    "\n"
   ]
  },
  {
   "cell_type": "code",
   "execution_count": 4,
   "metadata": {},
   "outputs": [
    {
     "data": {
      "text/plain": [
       "Index(['pcode', 'mfg', 'racquet', 'headsize', 'length', 'weight', 'balance',\n",
       "       'swingweight', 'flex', 'acor', 'sweet', 'rccode', 'current',\n",
       "       'twistweight', 'hittingweight', 'vibration', 'filter', 'distance',\n",
       "       'spin', 'angle', 'shotspeed', 'swingspeed', 'plow', 'time'],\n",
       "      dtype='object')"
      ]
     },
     "execution_count": 4,
     "metadata": {},
     "output_type": "execute_result"
    }
   ],
   "source": [
    "df = pd.DataFrame(racquet_data)\n",
    "df.columns"
   ]
  },
  {
   "cell_type": "code",
   "execution_count": 5,
   "metadata": {},
   "outputs": [
    {
     "data": {
      "text/html": [
       "<div>\n",
       "<style scoped>\n",
       "    .dataframe tbody tr th:only-of-type {\n",
       "        vertical-align: middle;\n",
       "    }\n",
       "\n",
       "    .dataframe tbody tr th {\n",
       "        vertical-align: top;\n",
       "    }\n",
       "\n",
       "    .dataframe thead th {\n",
       "        text-align: right;\n",
       "    }\n",
       "</style>\n",
       "<table border=\"1\" class=\"dataframe\">\n",
       "  <thead>\n",
       "    <tr style=\"text-align: right;\">\n",
       "      <th></th>\n",
       "      <th>index</th>\n",
       "      <th>pcode</th>\n",
       "      <th>mfg</th>\n",
       "      <th>racquet</th>\n",
       "      <th>headsize</th>\n",
       "      <th>length</th>\n",
       "      <th>weight</th>\n",
       "      <th>balance</th>\n",
       "      <th>swingweight</th>\n",
       "      <th>flex</th>\n",
       "      <th>...</th>\n",
       "      <th>hittingweight</th>\n",
       "      <th>vibration</th>\n",
       "      <th>filter</th>\n",
       "      <th>distance</th>\n",
       "      <th>spin</th>\n",
       "      <th>angle</th>\n",
       "      <th>shotspeed</th>\n",
       "      <th>swingspeed</th>\n",
       "      <th>plow</th>\n",
       "      <th>time</th>\n",
       "    </tr>\n",
       "  </thead>\n",
       "  <tbody>\n",
       "    <tr>\n",
       "      <th>0</th>\n",
       "      <td>0</td>\n",
       "      <td>VS5</td>\n",
       "      <td>Volkl</td>\n",
       "      <td>V-Sense 5</td>\n",
       "      <td>100</td>\n",
       "      <td>27.0</td>\n",
       "      <td>276</td>\n",
       "      <td>33.5</td>\n",
       "      <td>281</td>\n",
       "      <td>70</td>\n",
       "      <td>...</td>\n",
       "      <td>114</td>\n",
       "      <td>164</td>\n",
       "      <td>21/2-effort</td>\n",
       "      <td>68.5</td>\n",
       "      <td>1596</td>\n",
       "      <td>3.6</td>\n",
       "      <td>64.5</td>\n",
       "      <td>51.4</td>\n",
       "      <td>37</td>\n",
       "      <td>0.89</td>\n",
       "    </tr>\n",
       "    <tr>\n",
       "      <th>1</th>\n",
       "      <td>1</td>\n",
       "      <td>U100UL</td>\n",
       "      <td>Wilson</td>\n",
       "      <td>Ultra 100UL</td>\n",
       "      <td>100</td>\n",
       "      <td>27.0</td>\n",
       "      <td>270</td>\n",
       "      <td>34.0</td>\n",
       "      <td>283</td>\n",
       "      <td>68</td>\n",
       "      <td>...</td>\n",
       "      <td>116</td>\n",
       "      <td>164</td>\n",
       "      <td>21/2-effort</td>\n",
       "      <td>68.5</td>\n",
       "      <td>1595</td>\n",
       "      <td>3.6</td>\n",
       "      <td>64.8</td>\n",
       "      <td>51.3</td>\n",
       "      <td>38</td>\n",
       "      <td>0.88</td>\n",
       "    </tr>\n",
       "    <tr>\n",
       "      <th>2</th>\n",
       "      <td>2</td>\n",
       "      <td>BULS1H</td>\n",
       "      <td>Wilson</td>\n",
       "      <td>Burn 100 ULS (2017)</td>\n",
       "      <td>100</td>\n",
       "      <td>27.0</td>\n",
       "      <td>281</td>\n",
       "      <td>34.1</td>\n",
       "      <td>288</td>\n",
       "      <td>67</td>\n",
       "      <td>...</td>\n",
       "      <td>119</td>\n",
       "      <td>158</td>\n",
       "      <td>21/2-effort</td>\n",
       "      <td>68.2</td>\n",
       "      <td>1579</td>\n",
       "      <td>3.4</td>\n",
       "      <td>65.2</td>\n",
       "      <td>51.0</td>\n",
       "      <td>39</td>\n",
       "      <td>0.87</td>\n",
       "    </tr>\n",
       "    <tr>\n",
       "      <th>3</th>\n",
       "      <td>3</td>\n",
       "      <td>YEZLLG</td>\n",
       "      <td>Yonex</td>\n",
       "      <td>Ezone Lite</td>\n",
       "      <td>100</td>\n",
       "      <td>27.0</td>\n",
       "      <td>282</td>\n",
       "      <td>33.3</td>\n",
       "      <td>292</td>\n",
       "      <td>64</td>\n",
       "      <td>...</td>\n",
       "      <td>119</td>\n",
       "      <td>156</td>\n",
       "      <td>21/2-effort</td>\n",
       "      <td>68.1</td>\n",
       "      <td>1579</td>\n",
       "      <td>3.4</td>\n",
       "      <td>65.2</td>\n",
       "      <td>51.0</td>\n",
       "      <td>39</td>\n",
       "      <td>0.87</td>\n",
       "    </tr>\n",
       "    <tr>\n",
       "      <th>4</th>\n",
       "      <td>4</td>\n",
       "      <td>TPS270</td>\n",
       "      <td>Tecnifibre</td>\n",
       "      <td>T-Flash PS 270</td>\n",
       "      <td>100</td>\n",
       "      <td>27.0</td>\n",
       "      <td>285</td>\n",
       "      <td>34.1</td>\n",
       "      <td>293</td>\n",
       "      <td>69</td>\n",
       "      <td>...</td>\n",
       "      <td>119</td>\n",
       "      <td>160</td>\n",
       "      <td>21/2-effort</td>\n",
       "      <td>67.8</td>\n",
       "      <td>1570</td>\n",
       "      <td>3.5</td>\n",
       "      <td>64.9</td>\n",
       "      <td>50.7</td>\n",
       "      <td>39</td>\n",
       "      <td>0.87</td>\n",
       "    </tr>\n",
       "  </tbody>\n",
       "</table>\n",
       "<p>5 rows × 25 columns</p>\n",
       "</div>"
      ],
      "text/plain": [
       "   index   pcode         mfg              racquet  headsize  length  weight  \\\n",
       "0      0     VS5       Volkl            V-Sense 5       100    27.0     276   \n",
       "1      1  U100UL      Wilson          Ultra 100UL       100    27.0     270   \n",
       "2      2  BULS1H      Wilson  Burn 100 ULS (2017)       100    27.0     281   \n",
       "3      3  YEZLLG       Yonex           Ezone Lite       100    27.0     282   \n",
       "4      4  TPS270  Tecnifibre       T-Flash PS 270       100    27.0     285   \n",
       "\n",
       "   balance  swingweight  flex  ...  hittingweight  vibration       filter  \\\n",
       "0     33.5          281    70  ...            114        164  21/2-effort   \n",
       "1     34.0          283    68  ...            116        164  21/2-effort   \n",
       "2     34.1          288    67  ...            119        158  21/2-effort   \n",
       "3     33.3          292    64  ...            119        156  21/2-effort   \n",
       "4     34.1          293    69  ...            119        160  21/2-effort   \n",
       "\n",
       "  distance  spin  angle shotspeed swingspeed plow  time  \n",
       "0     68.5  1596    3.6      64.5       51.4   37  0.89  \n",
       "1     68.5  1595    3.6      64.8       51.3   38  0.88  \n",
       "2     68.2  1579    3.4      65.2       51.0   39  0.87  \n",
       "3     68.1  1579    3.4      65.2       51.0   39  0.87  \n",
       "4     67.8  1570    3.5      64.9       50.7   39  0.87  \n",
       "\n",
       "[5 rows x 25 columns]"
      ]
     },
     "execution_count": 5,
     "metadata": {},
     "output_type": "execute_result"
    }
   ],
   "source": [
    "df = df.drop_duplicates().reset_index()\n",
    "df.head()"
   ]
  },
  {
   "cell_type": "code",
   "execution_count": 6,
   "metadata": {},
   "outputs": [
    {
     "data": {
      "text/html": [
       "<div>\n",
       "<style scoped>\n",
       "    .dataframe tbody tr th:only-of-type {\n",
       "        vertical-align: middle;\n",
       "    }\n",
       "\n",
       "    .dataframe tbody tr th {\n",
       "        vertical-align: top;\n",
       "    }\n",
       "\n",
       "    .dataframe thead th {\n",
       "        text-align: right;\n",
       "    }\n",
       "</style>\n",
       "<table border=\"1\" class=\"dataframe\">\n",
       "  <thead>\n",
       "    <tr style=\"text-align: right;\">\n",
       "      <th></th>\n",
       "      <th>index</th>\n",
       "      <th>pcode</th>\n",
       "      <th>mfg</th>\n",
       "      <th>racquet</th>\n",
       "      <th>headsize</th>\n",
       "      <th>length</th>\n",
       "      <th>weight</th>\n",
       "      <th>balance</th>\n",
       "      <th>swingweight</th>\n",
       "      <th>flex</th>\n",
       "      <th>...</th>\n",
       "      <th>hittingweight</th>\n",
       "      <th>vibration</th>\n",
       "      <th>filter</th>\n",
       "      <th>distance</th>\n",
       "      <th>spin</th>\n",
       "      <th>angle</th>\n",
       "      <th>shotspeed</th>\n",
       "      <th>swingspeed</th>\n",
       "      <th>plow</th>\n",
       "      <th>time</th>\n",
       "    </tr>\n",
       "  </thead>\n",
       "  <tbody>\n",
       "    <tr>\n",
       "      <th>0</th>\n",
       "      <td>0</td>\n",
       "      <td>VS5</td>\n",
       "      <td>Volkl</td>\n",
       "      <td>V-Sense 5</td>\n",
       "      <td>100</td>\n",
       "      <td>27.0</td>\n",
       "      <td>276</td>\n",
       "      <td>33.5</td>\n",
       "      <td>281</td>\n",
       "      <td>70</td>\n",
       "      <td>...</td>\n",
       "      <td>114</td>\n",
       "      <td>164</td>\n",
       "      <td>21/2-effort</td>\n",
       "      <td>68.5</td>\n",
       "      <td>1596</td>\n",
       "      <td>3.6</td>\n",
       "      <td>64.5</td>\n",
       "      <td>51.4</td>\n",
       "      <td>37</td>\n",
       "      <td>0.89</td>\n",
       "    </tr>\n",
       "    <tr>\n",
       "      <th>1</th>\n",
       "      <td>1</td>\n",
       "      <td>U100UL</td>\n",
       "      <td>Wilson</td>\n",
       "      <td>Ultra 100UL</td>\n",
       "      <td>100</td>\n",
       "      <td>27.0</td>\n",
       "      <td>270</td>\n",
       "      <td>34.0</td>\n",
       "      <td>283</td>\n",
       "      <td>68</td>\n",
       "      <td>...</td>\n",
       "      <td>116</td>\n",
       "      <td>164</td>\n",
       "      <td>21/2-effort</td>\n",
       "      <td>68.5</td>\n",
       "      <td>1595</td>\n",
       "      <td>3.6</td>\n",
       "      <td>64.8</td>\n",
       "      <td>51.3</td>\n",
       "      <td>38</td>\n",
       "      <td>0.88</td>\n",
       "    </tr>\n",
       "    <tr>\n",
       "      <th>2</th>\n",
       "      <td>2</td>\n",
       "      <td>BULS1H</td>\n",
       "      <td>Wilson</td>\n",
       "      <td>Burn 100 ULS (2017)</td>\n",
       "      <td>100</td>\n",
       "      <td>27.0</td>\n",
       "      <td>281</td>\n",
       "      <td>34.1</td>\n",
       "      <td>288</td>\n",
       "      <td>67</td>\n",
       "      <td>...</td>\n",
       "      <td>119</td>\n",
       "      <td>158</td>\n",
       "      <td>21/2-effort</td>\n",
       "      <td>68.2</td>\n",
       "      <td>1579</td>\n",
       "      <td>3.4</td>\n",
       "      <td>65.2</td>\n",
       "      <td>51.0</td>\n",
       "      <td>39</td>\n",
       "      <td>0.87</td>\n",
       "    </tr>\n",
       "    <tr>\n",
       "      <th>3</th>\n",
       "      <td>3</td>\n",
       "      <td>YEZLLG</td>\n",
       "      <td>Yonex</td>\n",
       "      <td>Ezone Lite</td>\n",
       "      <td>100</td>\n",
       "      <td>27.0</td>\n",
       "      <td>282</td>\n",
       "      <td>33.3</td>\n",
       "      <td>292</td>\n",
       "      <td>64</td>\n",
       "      <td>...</td>\n",
       "      <td>119</td>\n",
       "      <td>156</td>\n",
       "      <td>21/2-effort</td>\n",
       "      <td>68.1</td>\n",
       "      <td>1579</td>\n",
       "      <td>3.4</td>\n",
       "      <td>65.2</td>\n",
       "      <td>51.0</td>\n",
       "      <td>39</td>\n",
       "      <td>0.87</td>\n",
       "    </tr>\n",
       "    <tr>\n",
       "      <th>4</th>\n",
       "      <td>4</td>\n",
       "      <td>TPS270</td>\n",
       "      <td>Tecnifibre</td>\n",
       "      <td>T-Flash PS 270</td>\n",
       "      <td>100</td>\n",
       "      <td>27.0</td>\n",
       "      <td>285</td>\n",
       "      <td>34.1</td>\n",
       "      <td>293</td>\n",
       "      <td>69</td>\n",
       "      <td>...</td>\n",
       "      <td>119</td>\n",
       "      <td>160</td>\n",
       "      <td>21/2-effort</td>\n",
       "      <td>67.8</td>\n",
       "      <td>1570</td>\n",
       "      <td>3.5</td>\n",
       "      <td>64.9</td>\n",
       "      <td>50.7</td>\n",
       "      <td>39</td>\n",
       "      <td>0.87</td>\n",
       "    </tr>\n",
       "    <tr>\n",
       "      <th>...</th>\n",
       "      <td>...</td>\n",
       "      <td>...</td>\n",
       "      <td>...</td>\n",
       "      <td>...</td>\n",
       "      <td>...</td>\n",
       "      <td>...</td>\n",
       "      <td>...</td>\n",
       "      <td>...</td>\n",
       "      <td>...</td>\n",
       "      <td>...</td>\n",
       "      <td>...</td>\n",
       "      <td>...</td>\n",
       "      <td>...</td>\n",
       "      <td>...</td>\n",
       "      <td>...</td>\n",
       "      <td>...</td>\n",
       "      <td>...</td>\n",
       "      <td>...</td>\n",
       "      <td>...</td>\n",
       "      <td>...</td>\n",
       "      <td>...</td>\n",
       "    </tr>\n",
       "    <tr>\n",
       "      <th>256</th>\n",
       "      <td>790</td>\n",
       "      <td>PT95</td>\n",
       "      <td>Prince</td>\n",
       "      <td>Tour 95</td>\n",
       "      <td>95</td>\n",
       "      <td>27.0</td>\n",
       "      <td>345</td>\n",
       "      <td>32.4</td>\n",
       "      <td>337</td>\n",
       "      <td>60</td>\n",
       "      <td>...</td>\n",
       "      <td>136</td>\n",
       "      <td>131</td>\n",
       "      <td>21/2-effort</td>\n",
       "      <td>65.8</td>\n",
       "      <td>1491</td>\n",
       "      <td>2.9</td>\n",
       "      <td>66.2</td>\n",
       "      <td>48.9</td>\n",
       "      <td>43</td>\n",
       "      <td>0.82</td>\n",
       "    </tr>\n",
       "    <tr>\n",
       "      <th>258</th>\n",
       "      <td>852</td>\n",
       "      <td>HG3RMP</td>\n",
       "      <td>Head</td>\n",
       "      <td>Graphene 360 Radical MP</td>\n",
       "      <td>98</td>\n",
       "      <td>27.0</td>\n",
       "      <td>312</td>\n",
       "      <td>32.4</td>\n",
       "      <td>324</td>\n",
       "      <td>68</td>\n",
       "      <td>...</td>\n",
       "      <td>130</td>\n",
       "      <td>152</td>\n",
       "      <td>21/2-effort</td>\n",
       "      <td>66.8</td>\n",
       "      <td>1526</td>\n",
       "      <td>3.1</td>\n",
       "      <td>66.0</td>\n",
       "      <td>49.7</td>\n",
       "      <td>42</td>\n",
       "      <td>0.84</td>\n",
       "    </tr>\n",
       "    <tr>\n",
       "      <th>260</th>\n",
       "      <td>938</td>\n",
       "      <td>HGTRMP</td>\n",
       "      <td>Head</td>\n",
       "      <td>Graphene Touch Radical MP</td>\n",
       "      <td>98</td>\n",
       "      <td>27.0</td>\n",
       "      <td>310</td>\n",
       "      <td>33.0</td>\n",
       "      <td>327</td>\n",
       "      <td>65</td>\n",
       "      <td>...</td>\n",
       "      <td>132</td>\n",
       "      <td>151</td>\n",
       "      <td>21/2-effort</td>\n",
       "      <td>66.6</td>\n",
       "      <td>1519</td>\n",
       "      <td>3.0</td>\n",
       "      <td>66.3</td>\n",
       "      <td>49.6</td>\n",
       "      <td>42</td>\n",
       "      <td>0.84</td>\n",
       "    </tr>\n",
       "    <tr>\n",
       "      <th>261</th>\n",
       "      <td>961</td>\n",
       "      <td>BS0398</td>\n",
       "      <td>Prince</td>\n",
       "      <td>Textreme Beast O3 98</td>\n",
       "      <td>98</td>\n",
       "      <td>27.0</td>\n",
       "      <td>318</td>\n",
       "      <td>32.5</td>\n",
       "      <td>326</td>\n",
       "      <td>69</td>\n",
       "      <td>...</td>\n",
       "      <td>133</td>\n",
       "      <td>155</td>\n",
       "      <td>21/2-effort</td>\n",
       "      <td>66.7</td>\n",
       "      <td>1519</td>\n",
       "      <td>2.9</td>\n",
       "      <td>66.5</td>\n",
       "      <td>49.6</td>\n",
       "      <td>42</td>\n",
       "      <td>0.83</td>\n",
       "    </tr>\n",
       "    <tr>\n",
       "      <th>262</th>\n",
       "      <td>964</td>\n",
       "      <td>BRPDR</td>\n",
       "      <td>Babolat</td>\n",
       "      <td>Pure Drive (2021)</td>\n",
       "      <td>100</td>\n",
       "      <td>27.0</td>\n",
       "      <td>318</td>\n",
       "      <td>33.0</td>\n",
       "      <td>320</td>\n",
       "      <td>71</td>\n",
       "      <td>...</td>\n",
       "      <td>133</td>\n",
       "      <td>161</td>\n",
       "      <td>21/2-effort</td>\n",
       "      <td>66.8</td>\n",
       "      <td>1522</td>\n",
       "      <td>2.9</td>\n",
       "      <td>66.6</td>\n",
       "      <td>49.6</td>\n",
       "      <td>43</td>\n",
       "      <td>0.83</td>\n",
       "    </tr>\n",
       "  </tbody>\n",
       "</table>\n",
       "<p>210 rows × 25 columns</p>\n",
       "</div>"
      ],
      "text/plain": [
       "     index   pcode         mfg                    racquet  headsize  length  \\\n",
       "0        0     VS5       Volkl                  V-Sense 5       100    27.0   \n",
       "1        1  U100UL      Wilson                Ultra 100UL       100    27.0   \n",
       "2        2  BULS1H      Wilson        Burn 100 ULS (2017)       100    27.0   \n",
       "3        3  YEZLLG       Yonex                 Ezone Lite       100    27.0   \n",
       "4        4  TPS270  Tecnifibre             T-Flash PS 270       100    27.0   \n",
       "..     ...     ...         ...                        ...       ...     ...   \n",
       "256    790    PT95      Prince                    Tour 95        95    27.0   \n",
       "258    852  HG3RMP        Head    Graphene 360 Radical MP        98    27.0   \n",
       "260    938  HGTRMP        Head  Graphene Touch Radical MP        98    27.0   \n",
       "261    961  BS0398      Prince       Textreme Beast O3 98        98    27.0   \n",
       "262    964   BRPDR     Babolat          Pure Drive (2021)       100    27.0   \n",
       "\n",
       "     weight  balance  swingweight  flex  ...  hittingweight  vibration  \\\n",
       "0       276     33.5          281    70  ...            114        164   \n",
       "1       270     34.0          283    68  ...            116        164   \n",
       "2       281     34.1          288    67  ...            119        158   \n",
       "3       282     33.3          292    64  ...            119        156   \n",
       "4       285     34.1          293    69  ...            119        160   \n",
       "..      ...      ...          ...   ...  ...            ...        ...   \n",
       "256     345     32.4          337    60  ...            136        131   \n",
       "258     312     32.4          324    68  ...            130        152   \n",
       "260     310     33.0          327    65  ...            132        151   \n",
       "261     318     32.5          326    69  ...            133        155   \n",
       "262     318     33.0          320    71  ...            133        161   \n",
       "\n",
       "          filter distance  spin  angle shotspeed swingspeed plow  time  \n",
       "0    21/2-effort     68.5  1596    3.6      64.5       51.4   37  0.89  \n",
       "1    21/2-effort     68.5  1595    3.6      64.8       51.3   38  0.88  \n",
       "2    21/2-effort     68.2  1579    3.4      65.2       51.0   39  0.87  \n",
       "3    21/2-effort     68.1  1579    3.4      65.2       51.0   39  0.87  \n",
       "4    21/2-effort     67.8  1570    3.5      64.9       50.7   39  0.87  \n",
       "..           ...      ...   ...    ...       ...        ...  ...   ...  \n",
       "256  21/2-effort     65.8  1491    2.9      66.2       48.9   43  0.82  \n",
       "258  21/2-effort     66.8  1526    3.1      66.0       49.7   42  0.84  \n",
       "260  21/2-effort     66.6  1519    3.0      66.3       49.6   42  0.84  \n",
       "261  21/2-effort     66.7  1519    2.9      66.5       49.6   42  0.83  \n",
       "262  21/2-effort     66.8  1522    2.9      66.6       49.6   43  0.83  \n",
       "\n",
       "[210 rows x 25 columns]"
      ]
     },
     "execution_count": 6,
     "metadata": {},
     "output_type": "execute_result"
    }
   ],
   "source": [
    "normal_length_racquets = df[df['length']==27.0]\n",
    "normal_length_racquets"
   ]
  },
  {
   "cell_type": "code",
   "execution_count": 7,
   "metadata": {},
   "outputs": [
    {
     "data": {
      "text/html": [
       "<div>\n",
       "<style scoped>\n",
       "    .dataframe tbody tr th:only-of-type {\n",
       "        vertical-align: middle;\n",
       "    }\n",
       "\n",
       "    .dataframe tbody tr th {\n",
       "        vertical-align: top;\n",
       "    }\n",
       "\n",
       "    .dataframe thead th {\n",
       "        text-align: right;\n",
       "    }\n",
       "</style>\n",
       "<table border=\"1\" class=\"dataframe\">\n",
       "  <thead>\n",
       "    <tr style=\"text-align: right;\">\n",
       "      <th></th>\n",
       "      <th>index</th>\n",
       "      <th>headsize</th>\n",
       "      <th>length</th>\n",
       "      <th>weight</th>\n",
       "      <th>balance</th>\n",
       "      <th>swingweight</th>\n",
       "      <th>flex</th>\n",
       "      <th>acor</th>\n",
       "      <th>sweet</th>\n",
       "      <th>twistweight</th>\n",
       "      <th>hittingweight</th>\n",
       "    </tr>\n",
       "  </thead>\n",
       "  <tbody>\n",
       "    <tr>\n",
       "      <th>index</th>\n",
       "      <td>1.000000</td>\n",
       "      <td>-0.037387</td>\n",
       "      <td>0.109723</td>\n",
       "      <td>0.290374</td>\n",
       "      <td>-0.050027</td>\n",
       "      <td>0.523371</td>\n",
       "      <td>0.107339</td>\n",
       "      <td>0.561581</td>\n",
       "      <td>0.554929</td>\n",
       "      <td>0.289507</td>\n",
       "      <td>0.559557</td>\n",
       "    </tr>\n",
       "    <tr>\n",
       "      <th>headsize</th>\n",
       "      <td>-0.037387</td>\n",
       "      <td>1.000000</td>\n",
       "      <td>0.600280</td>\n",
       "      <td>-0.681726</td>\n",
       "      <td>0.737252</td>\n",
       "      <td>-0.261155</td>\n",
       "      <td>0.168528</td>\n",
       "      <td>0.008073</td>\n",
       "      <td>-0.048670</td>\n",
       "      <td>0.565842</td>\n",
       "      <td>0.003905</td>\n",
       "    </tr>\n",
       "    <tr>\n",
       "      <th>length</th>\n",
       "      <td>0.109723</td>\n",
       "      <td>0.600280</td>\n",
       "      <td>1.000000</td>\n",
       "      <td>-0.310789</td>\n",
       "      <td>0.516151</td>\n",
       "      <td>0.189963</td>\n",
       "      <td>0.149180</td>\n",
       "      <td>0.243743</td>\n",
       "      <td>0.190124</td>\n",
       "      <td>0.242250</td>\n",
       "      <td>0.242054</td>\n",
       "    </tr>\n",
       "    <tr>\n",
       "      <th>weight</th>\n",
       "      <td>0.290374</td>\n",
       "      <td>-0.681726</td>\n",
       "      <td>-0.310789</td>\n",
       "      <td>1.000000</td>\n",
       "      <td>-0.825035</td>\n",
       "      <td>0.680991</td>\n",
       "      <td>-0.221797</td>\n",
       "      <td>0.522982</td>\n",
       "      <td>0.529606</td>\n",
       "      <td>-0.099287</td>\n",
       "      <td>0.534820</td>\n",
       "    </tr>\n",
       "    <tr>\n",
       "      <th>balance</th>\n",
       "      <td>-0.050027</td>\n",
       "      <td>0.737252</td>\n",
       "      <td>0.516151</td>\n",
       "      <td>-0.825035</td>\n",
       "      <td>1.000000</td>\n",
       "      <td>-0.288224</td>\n",
       "      <td>0.267335</td>\n",
       "      <td>-0.110172</td>\n",
       "      <td>-0.150735</td>\n",
       "      <td>0.299982</td>\n",
       "      <td>-0.118649</td>\n",
       "    </tr>\n",
       "    <tr>\n",
       "      <th>swingweight</th>\n",
       "      <td>0.523371</td>\n",
       "      <td>-0.261155</td>\n",
       "      <td>0.189963</td>\n",
       "      <td>0.680991</td>\n",
       "      <td>-0.288224</td>\n",
       "      <td>1.000000</td>\n",
       "      <td>-0.137516</td>\n",
       "      <td>0.904457</td>\n",
       "      <td>0.884469</td>\n",
       "      <td>0.195792</td>\n",
       "      <td>0.911336</td>\n",
       "    </tr>\n",
       "    <tr>\n",
       "      <th>flex</th>\n",
       "      <td>0.107339</td>\n",
       "      <td>0.168528</td>\n",
       "      <td>0.149180</td>\n",
       "      <td>-0.221797</td>\n",
       "      <td>0.267335</td>\n",
       "      <td>-0.137516</td>\n",
       "      <td>1.000000</td>\n",
       "      <td>-0.053387</td>\n",
       "      <td>-0.001273</td>\n",
       "      <td>0.119537</td>\n",
       "      <td>-0.047643</td>\n",
       "    </tr>\n",
       "    <tr>\n",
       "      <th>acor</th>\n",
       "      <td>0.561581</td>\n",
       "      <td>0.008073</td>\n",
       "      <td>0.243743</td>\n",
       "      <td>0.522982</td>\n",
       "      <td>-0.110172</td>\n",
       "      <td>0.904457</td>\n",
       "      <td>-0.053387</td>\n",
       "      <td>1.000000</td>\n",
       "      <td>0.941788</td>\n",
       "      <td>0.566890</td>\n",
       "      <td>0.988878</td>\n",
       "    </tr>\n",
       "    <tr>\n",
       "      <th>sweet</th>\n",
       "      <td>0.554929</td>\n",
       "      <td>-0.048670</td>\n",
       "      <td>0.190124</td>\n",
       "      <td>0.529606</td>\n",
       "      <td>-0.150735</td>\n",
       "      <td>0.884469</td>\n",
       "      <td>-0.001273</td>\n",
       "      <td>0.941788</td>\n",
       "      <td>1.000000</td>\n",
       "      <td>0.471983</td>\n",
       "      <td>0.931853</td>\n",
       "    </tr>\n",
       "    <tr>\n",
       "      <th>twistweight</th>\n",
       "      <td>0.289507</td>\n",
       "      <td>0.565842</td>\n",
       "      <td>0.242250</td>\n",
       "      <td>-0.099287</td>\n",
       "      <td>0.299982</td>\n",
       "      <td>0.195792</td>\n",
       "      <td>0.119537</td>\n",
       "      <td>0.566890</td>\n",
       "      <td>0.471983</td>\n",
       "      <td>1.000000</td>\n",
       "      <td>0.573724</td>\n",
       "    </tr>\n",
       "    <tr>\n",
       "      <th>hittingweight</th>\n",
       "      <td>0.559557</td>\n",
       "      <td>0.003905</td>\n",
       "      <td>0.242054</td>\n",
       "      <td>0.534820</td>\n",
       "      <td>-0.118649</td>\n",
       "      <td>0.911336</td>\n",
       "      <td>-0.047643</td>\n",
       "      <td>0.988878</td>\n",
       "      <td>0.931853</td>\n",
       "      <td>0.573724</td>\n",
       "      <td>1.000000</td>\n",
       "    </tr>\n",
       "  </tbody>\n",
       "</table>\n",
       "</div>"
      ],
      "text/plain": [
       "                  index  headsize    length    weight   balance  swingweight  \\\n",
       "index          1.000000 -0.037387  0.109723  0.290374 -0.050027     0.523371   \n",
       "headsize      -0.037387  1.000000  0.600280 -0.681726  0.737252    -0.261155   \n",
       "length         0.109723  0.600280  1.000000 -0.310789  0.516151     0.189963   \n",
       "weight         0.290374 -0.681726 -0.310789  1.000000 -0.825035     0.680991   \n",
       "balance       -0.050027  0.737252  0.516151 -0.825035  1.000000    -0.288224   \n",
       "swingweight    0.523371 -0.261155  0.189963  0.680991 -0.288224     1.000000   \n",
       "flex           0.107339  0.168528  0.149180 -0.221797  0.267335    -0.137516   \n",
       "acor           0.561581  0.008073  0.243743  0.522982 -0.110172     0.904457   \n",
       "sweet          0.554929 -0.048670  0.190124  0.529606 -0.150735     0.884469   \n",
       "twistweight    0.289507  0.565842  0.242250 -0.099287  0.299982     0.195792   \n",
       "hittingweight  0.559557  0.003905  0.242054  0.534820 -0.118649     0.911336   \n",
       "\n",
       "                   flex      acor     sweet  twistweight  hittingweight  \n",
       "index          0.107339  0.561581  0.554929     0.289507       0.559557  \n",
       "headsize       0.168528  0.008073 -0.048670     0.565842       0.003905  \n",
       "length         0.149180  0.243743  0.190124     0.242250       0.242054  \n",
       "weight        -0.221797  0.522982  0.529606    -0.099287       0.534820  \n",
       "balance        0.267335 -0.110172 -0.150735     0.299982      -0.118649  \n",
       "swingweight   -0.137516  0.904457  0.884469     0.195792       0.911336  \n",
       "flex           1.000000 -0.053387 -0.001273     0.119537      -0.047643  \n",
       "acor          -0.053387  1.000000  0.941788     0.566890       0.988878  \n",
       "sweet         -0.001273  0.941788  1.000000     0.471983       0.931853  \n",
       "twistweight    0.119537  0.566890  0.471983     1.000000       0.573724  \n",
       "hittingweight -0.047643  0.988878  0.931853     0.573724       1.000000  "
      ]
     },
     "execution_count": 7,
     "metadata": {},
     "output_type": "execute_result"
    }
   ],
   "source": [
    "df.corr('pearson')"
   ]
  },
  {
   "cell_type": "code",
   "execution_count": 8,
   "metadata": {},
   "outputs": [
    {
     "data": {
      "text/html": [
       "<div>\n",
       "<style scoped>\n",
       "    .dataframe tbody tr th:only-of-type {\n",
       "        vertical-align: middle;\n",
       "    }\n",
       "\n",
       "    .dataframe tbody tr th {\n",
       "        vertical-align: top;\n",
       "    }\n",
       "\n",
       "    .dataframe thead th {\n",
       "        text-align: right;\n",
       "    }\n",
       "</style>\n",
       "<table border=\"1\" class=\"dataframe\">\n",
       "  <thead>\n",
       "    <tr style=\"text-align: right;\">\n",
       "      <th></th>\n",
       "      <th>index</th>\n",
       "      <th>headsize</th>\n",
       "      <th>length</th>\n",
       "      <th>weight</th>\n",
       "      <th>balance</th>\n",
       "      <th>swingweight</th>\n",
       "      <th>flex</th>\n",
       "      <th>acor</th>\n",
       "      <th>sweet</th>\n",
       "      <th>twistweight</th>\n",
       "      <th>hittingweight</th>\n",
       "    </tr>\n",
       "  </thead>\n",
       "  <tbody>\n",
       "    <tr>\n",
       "      <th>index</th>\n",
       "      <td>1.000000</td>\n",
       "      <td>-0.084604</td>\n",
       "      <td>0.160383</td>\n",
       "      <td>0.423995</td>\n",
       "      <td>-0.144412</td>\n",
       "      <td>0.698475</td>\n",
       "      <td>0.034909</td>\n",
       "      <td>0.757733</td>\n",
       "      <td>0.730585</td>\n",
       "      <td>0.404505</td>\n",
       "      <td>0.752457</td>\n",
       "    </tr>\n",
       "    <tr>\n",
       "      <th>headsize</th>\n",
       "      <td>-0.084604</td>\n",
       "      <td>1.000000</td>\n",
       "      <td>0.451220</td>\n",
       "      <td>-0.660002</td>\n",
       "      <td>0.590697</td>\n",
       "      <td>-0.367554</td>\n",
       "      <td>0.263554</td>\n",
       "      <td>-0.075529</td>\n",
       "      <td>-0.142852</td>\n",
       "      <td>0.477025</td>\n",
       "      <td>-0.073748</td>\n",
       "    </tr>\n",
       "    <tr>\n",
       "      <th>length</th>\n",
       "      <td>0.160383</td>\n",
       "      <td>0.451220</td>\n",
       "      <td>1.000000</td>\n",
       "      <td>-0.246530</td>\n",
       "      <td>0.426457</td>\n",
       "      <td>0.144873</td>\n",
       "      <td>0.153765</td>\n",
       "      <td>0.266530</td>\n",
       "      <td>0.207601</td>\n",
       "      <td>0.266090</td>\n",
       "      <td>0.263022</td>\n",
       "    </tr>\n",
       "    <tr>\n",
       "      <th>weight</th>\n",
       "      <td>0.423995</td>\n",
       "      <td>-0.660002</td>\n",
       "      <td>-0.246530</td>\n",
       "      <td>1.000000</td>\n",
       "      <td>-0.806239</td>\n",
       "      <td>0.717815</td>\n",
       "      <td>-0.285443</td>\n",
       "      <td>0.534950</td>\n",
       "      <td>0.544694</td>\n",
       "      <td>-0.044706</td>\n",
       "      <td>0.543040</td>\n",
       "    </tr>\n",
       "    <tr>\n",
       "      <th>balance</th>\n",
       "      <td>-0.144412</td>\n",
       "      <td>0.590697</td>\n",
       "      <td>0.426457</td>\n",
       "      <td>-0.806239</td>\n",
       "      <td>1.000000</td>\n",
       "      <td>-0.365039</td>\n",
       "      <td>0.331151</td>\n",
       "      <td>-0.161886</td>\n",
       "      <td>-0.199010</td>\n",
       "      <td>0.196455</td>\n",
       "      <td>-0.167179</td>\n",
       "    </tr>\n",
       "    <tr>\n",
       "      <th>swingweight</th>\n",
       "      <td>0.698475</td>\n",
       "      <td>-0.367554</td>\n",
       "      <td>0.144873</td>\n",
       "      <td>0.717815</td>\n",
       "      <td>-0.365039</td>\n",
       "      <td>1.000000</td>\n",
       "      <td>-0.193815</td>\n",
       "      <td>0.882153</td>\n",
       "      <td>0.865996</td>\n",
       "      <td>0.199695</td>\n",
       "      <td>0.887874</td>\n",
       "    </tr>\n",
       "    <tr>\n",
       "      <th>flex</th>\n",
       "      <td>0.034909</td>\n",
       "      <td>0.263554</td>\n",
       "      <td>0.153765</td>\n",
       "      <td>-0.285443</td>\n",
       "      <td>0.331151</td>\n",
       "      <td>-0.193815</td>\n",
       "      <td>1.000000</td>\n",
       "      <td>-0.075021</td>\n",
       "      <td>-0.044763</td>\n",
       "      <td>0.165027</td>\n",
       "      <td>-0.068032</td>\n",
       "    </tr>\n",
       "    <tr>\n",
       "      <th>acor</th>\n",
       "      <td>0.757733</td>\n",
       "      <td>-0.075529</td>\n",
       "      <td>0.266530</td>\n",
       "      <td>0.534950</td>\n",
       "      <td>-0.161886</td>\n",
       "      <td>0.882153</td>\n",
       "      <td>-0.075021</td>\n",
       "      <td>1.000000</td>\n",
       "      <td>0.935995</td>\n",
       "      <td>0.585502</td>\n",
       "      <td>0.988531</td>\n",
       "    </tr>\n",
       "    <tr>\n",
       "      <th>sweet</th>\n",
       "      <td>0.730585</td>\n",
       "      <td>-0.142852</td>\n",
       "      <td>0.207601</td>\n",
       "      <td>0.544694</td>\n",
       "      <td>-0.199010</td>\n",
       "      <td>0.865996</td>\n",
       "      <td>-0.044763</td>\n",
       "      <td>0.935995</td>\n",
       "      <td>1.000000</td>\n",
       "      <td>0.493090</td>\n",
       "      <td>0.925905</td>\n",
       "    </tr>\n",
       "    <tr>\n",
       "      <th>twistweight</th>\n",
       "      <td>0.404505</td>\n",
       "      <td>0.477025</td>\n",
       "      <td>0.266090</td>\n",
       "      <td>-0.044706</td>\n",
       "      <td>0.196455</td>\n",
       "      <td>0.199695</td>\n",
       "      <td>0.165027</td>\n",
       "      <td>0.585502</td>\n",
       "      <td>0.493090</td>\n",
       "      <td>1.000000</td>\n",
       "      <td>0.588464</td>\n",
       "    </tr>\n",
       "    <tr>\n",
       "      <th>hittingweight</th>\n",
       "      <td>0.752457</td>\n",
       "      <td>-0.073748</td>\n",
       "      <td>0.263022</td>\n",
       "      <td>0.543040</td>\n",
       "      <td>-0.167179</td>\n",
       "      <td>0.887874</td>\n",
       "      <td>-0.068032</td>\n",
       "      <td>0.988531</td>\n",
       "      <td>0.925905</td>\n",
       "      <td>0.588464</td>\n",
       "      <td>1.000000</td>\n",
       "    </tr>\n",
       "  </tbody>\n",
       "</table>\n",
       "</div>"
      ],
      "text/plain": [
       "                  index  headsize    length    weight   balance  swingweight  \\\n",
       "index          1.000000 -0.084604  0.160383  0.423995 -0.144412     0.698475   \n",
       "headsize      -0.084604  1.000000  0.451220 -0.660002  0.590697    -0.367554   \n",
       "length         0.160383  0.451220  1.000000 -0.246530  0.426457     0.144873   \n",
       "weight         0.423995 -0.660002 -0.246530  1.000000 -0.806239     0.717815   \n",
       "balance       -0.144412  0.590697  0.426457 -0.806239  1.000000    -0.365039   \n",
       "swingweight    0.698475 -0.367554  0.144873  0.717815 -0.365039     1.000000   \n",
       "flex           0.034909  0.263554  0.153765 -0.285443  0.331151    -0.193815   \n",
       "acor           0.757733 -0.075529  0.266530  0.534950 -0.161886     0.882153   \n",
       "sweet          0.730585 -0.142852  0.207601  0.544694 -0.199010     0.865996   \n",
       "twistweight    0.404505  0.477025  0.266090 -0.044706  0.196455     0.199695   \n",
       "hittingweight  0.752457 -0.073748  0.263022  0.543040 -0.167179     0.887874   \n",
       "\n",
       "                   flex      acor     sweet  twistweight  hittingweight  \n",
       "index          0.034909  0.757733  0.730585     0.404505       0.752457  \n",
       "headsize       0.263554 -0.075529 -0.142852     0.477025      -0.073748  \n",
       "length         0.153765  0.266530  0.207601     0.266090       0.263022  \n",
       "weight        -0.285443  0.534950  0.544694    -0.044706       0.543040  \n",
       "balance        0.331151 -0.161886 -0.199010     0.196455      -0.167179  \n",
       "swingweight   -0.193815  0.882153  0.865996     0.199695       0.887874  \n",
       "flex           1.000000 -0.075021 -0.044763     0.165027      -0.068032  \n",
       "acor          -0.075021  1.000000  0.935995     0.585502       0.988531  \n",
       "sweet         -0.044763  0.935995  1.000000     0.493090       0.925905  \n",
       "twistweight    0.165027  0.585502  0.493090     1.000000       0.588464  \n",
       "hittingweight -0.068032  0.988531  0.925905     0.588464       1.000000  "
      ]
     },
     "execution_count": 8,
     "metadata": {},
     "output_type": "execute_result"
    }
   ],
   "source": [
    "df.corr('spearman')"
   ]
  },
  {
   "cell_type": "code",
   "execution_count": 9,
   "metadata": {},
   "outputs": [],
   "source": [
    "X = normal_length_racquets[['weight', 'balance']]#'length',\n",
    "y = normal_length_racquets['swingweight']\n",
    "\n",
    "# X_train_mean = X.mean()\n",
    "# X_train_sd = X.std()\n",
    "\n",
    "# y_train_mean = y.mean()\n",
    "# y_train_sd = y.std()\n",
    "\n",
    "# X = (X - X.mean())/X.std()\n",
    "# y = (y - y.mean())/y.std()"
   ]
  },
  {
   "cell_type": "code",
   "execution_count": 10,
   "metadata": {},
   "outputs": [
    {
     "name": "stdout",
     "output_type": "stream",
     "text": [
      "[9.99233358e-01 7.66642023e-04]\n"
     ]
    }
   ],
   "source": [
    "from sklearn.decomposition import PCA\n",
    "pca = PCA(n_components=2).fit(X)\n",
    "print(pca.explained_variance_ratio_)\n",
    "\n"
   ]
  },
  {
   "cell_type": "code",
   "execution_count": 11,
   "metadata": {},
   "outputs": [
    {
     "name": "stderr",
     "output_type": "stream",
     "text": [
      "/Users/niclasmettenleiter/opt/anaconda3/lib/python3.7/site-packages/statsmodels/tools/_testing.py:19: FutureWarning: pandas.util.testing is deprecated. Use the functions in the public API at pandas.testing instead.\n",
      "  import pandas.util.testing as tm\n"
     ]
    }
   ],
   "source": [
    "import seaborn as sns\n",
    "import matplotlib.pyplot as plt\n",
    "%matplotlib inline\n",
    "\n",
    "\n",
    "seaborn_data = pd.concat([X,y], axis=1)"
   ]
  },
  {
   "cell_type": "code",
   "execution_count": 12,
   "metadata": {},
   "outputs": [
    {
     "data": {
      "image/png": "[encoded data removed]",
      "text/plain": [
       "<Figure size 360x360 with 1 Axes>"
      ]
     },
     "metadata": {
      "needs_background": "light"
     },
     "output_type": "display_data"
    }
   ],
   "source": [
    "sns.lmplot(x=\"weight\", \n",
    "           y=\"swingweight\", \n",
    "           data=seaborn_data, x_jitter=.05);"
   ]
  },
  {
   "cell_type": "code",
   "execution_count": 13,
   "metadata": {},
   "outputs": [],
   "source": [
    "#sns.lmplot(x=\"flex\", y=\"swingweight\", data=seaborn_data, x_jitter=.05);"
   ]
  },
  {
   "cell_type": "code",
   "execution_count": 14,
   "metadata": {},
   "outputs": [
    {
     "data": {
      "image/png": "[encoded data removed]",
      "text/plain": [
       "<Figure size 360x360 with 1 Axes>"
      ]
     },
     "metadata": {
      "needs_background": "light"
     },
     "output_type": "display_data"
    }
   ],
   "source": [
    "sns.lmplot(x=\"balance\", y=\"swingweight\", data=seaborn_data);"
   ]
  },
  {
   "cell_type": "code",
   "execution_count": 15,
   "metadata": {},
   "outputs": [],
   "source": [
    "#sns.lmplot(x=\"length\", y=\"swingweight\", data=seaborn_data);"
   ]
  },
  {
   "cell_type": "code",
   "execution_count": 16,
   "metadata": {},
   "outputs": [],
   "source": [
    "from sklearn import metrics\n",
    "import numpy as np\n",
    "\n",
    "def calculate_metrics(y_true, y_pred):\n",
    "    mae = metrics.mean_absolute_error(y_true, y_pred)\n",
    "    mse = metrics.mean_squared_error(y_true, y_pred)\n",
    "    med_ae = metrics.median_absolute_error(y_true, y_pred)\n",
    "#    mape = metrics.mean_absolute_percentage_error(y_true, y_pred)\n",
    "    \n",
    "    print(\"mean_absolute_error\", mae)\n",
    "    #print(\"mean_squared_error\", mse)\n",
    "    print(\"RMSE\", np.sqrt(mse))\n",
    "    print(\"median_absolute_error\", med_ae)\n",
    "    #print(\"mean_absolute_percentage_error\", mape)\n",
    "    \n",
    "def calculate_mad(x):\n",
    "    return np.median(np.absolute(x - np.median(x)))\n",
    "\n",
    "def evaluate_model(model):\n",
    "    model = model.fit(X_train, y_train)\n",
    "    print(\"train_score\", model.score(X_train, y_train))\n",
    "    print(\"test_score\", model.score(X_test, y_test))\n",
    "    y_pred = model.predict(X_test)\n",
    "    calculate_metrics(y_test, y_pred)\n",
    "    difference = y_test-y_pred\n",
    "    plt.hist(difference, bins=70)\n",
    "#     print(\"mean of difference: \", np.mean(difference))\n",
    "#     print(\"sd of difference: \", np.std(difference))\n",
    "    \n",
    "    med = np.median(difference)\n",
    "    mad = calculate_mad(difference)\n",
    "#     print(\"median of difference: \", med)\n",
    "#     print(\"mean absolute difference: \", mad)\n",
    "    \n",
    "    lower = difference < med - 3 * mad\n",
    "    upper = difference > med + 3 * mad\n",
    "    \n",
    "    print(\"outliers\", len(df.loc[difference[lower].index]) + len(df.loc[difference[upper].index]))\n",
    "\n",
    "\n",
    "    return model\n",
    "\n",
    "\n",
    "def predict(model, flex, weight, balance):\n",
    "    model = model.fit(X_train,y_train)\n",
    "    sample = np.array([[ flex, weight, balance]])\n",
    "    try:\n",
    "        prediction = model.predict( np.array([[weight, balance,  flex]]))\n",
    "    except:\n",
    "        prediction = model.predict( np.array([[ weight, balance]]))\n",
    "        \n",
    "        \n",
    "    return prediction"
   ]
  },
  {
   "cell_type": "code",
   "execution_count": 17,
   "metadata": {},
   "outputs": [],
   "source": [
    "from sklearn.model_selection import train_test_split\n",
    "\n",
    "X_train, X_test, y_train, y_test = train_test_split(X, y, test_size=0.2, random_state=42)"
   ]
  },
  {
   "cell_type": "code",
   "execution_count": null,
   "metadata": {},
   "outputs": [],
   "source": [
    "\n"
   ]
  },
  {
   "cell_type": "code",
   "execution_count": 18,
   "metadata": {},
   "outputs": [
    {
     "name": "stdout",
     "output_type": "stream",
     "text": [
      "train_score 0.7315039732404407\n",
      "test_score 0.6600530570905705\n",
      "mean_absolute_error 4.588444294287863\n",
      "RMSE 6.0151791377812005\n",
      "median_absolute_error 3.5275369816390594\n",
      "outliers 4\n"
     ]
    },
    {
     "data": {
      "text/plain": [
       "LinearRegression(copy_X=True, fit_intercept=True, n_jobs=None, normalize=False)"
      ]
     },
     "execution_count": 18,
     "metadata": {},
     "output_type": "execute_result"
    },
    {
     "data": {
      "image/png": "[encoded data removed]",
      "text/plain": [
       "<Figure size 432x288 with 1 Axes>"
      ]
     },
     "metadata": {
      "needs_background": "light"
     },
     "output_type": "display_data"
    }
   ],
   "source": [
    "from sklearn.linear_model import LinearRegression,BayesianRidge\n",
    "evaluate_model(LinearRegression())    \n"
   ]
  },
  {
   "cell_type": "code",
   "execution_count": 19,
   "metadata": {},
   "outputs": [
    {
     "data": {
      "text/plain": [
       "array([338.44494011])"
      ]
     },
     "execution_count": 19,
     "metadata": {},
     "output_type": "execute_result"
    }
   ],
   "source": [
    "predict(LinearRegression(), 68, 357, 31.4)"
   ]
  },
  {
   "cell_type": "code",
   "execution_count": 20,
   "metadata": {},
   "outputs": [
    {
     "name": "stdout",
     "output_type": "stream",
     "text": [
      "train_score 0.7314160208762612\n",
      "test_score 0.6627695491433547\n",
      "mean_absolute_error 4.562783261229203\n",
      "RMSE 5.991097496417957\n",
      "median_absolute_error 3.516029884772479\n",
      "outliers 4\n"
     ]
    },
    {
     "data": {
      "text/plain": [
       "array([0.79877181, 7.74094202])"
      ]
     },
     "execution_count": 20,
     "metadata": {},
     "output_type": "execute_result"
    },
    {
     "data": {
      "image/png": "[encoded data removed]",
      "text/plain": [
       "<Figure size 432x288 with 1 Axes>"
      ]
     },
     "metadata": {
      "needs_background": "light"
     },
     "output_type": "display_data"
    }
   ],
   "source": [
    "evaluate_model(BayesianRidge()).coef_    \n"
   ]
  },
  {
   "cell_type": "code",
   "execution_count": 21,
   "metadata": {},
   "outputs": [
    {
     "data": {
      "text/plain": [
       "array([338.42901766])"
      ]
     },
     "execution_count": 21,
     "metadata": {},
     "output_type": "execute_result"
    }
   ],
   "source": [
    "predict(BayesianRidge(), 68, 357, 31.4)"
   ]
  },
  {
   "cell_type": "code",
   "execution_count": 22,
   "metadata": {},
   "outputs": [
    {
     "name": "stdout",
     "output_type": "stream",
     "text": [
      "train_score 0.73146107346972\n",
      "test_score 0.6621864257030663\n",
      "mean_absolute_error 4.569390522812243\n",
      "RMSE 5.996275024807323\n",
      "median_absolute_error 3.5290650288274037\n",
      "outliers 4\n"
     ]
    },
    {
     "data": {
      "text/plain": [
       "array([0.80049653, 7.80872346])"
      ]
     },
     "execution_count": 22,
     "metadata": {},
     "output_type": "execute_result"
    },
    {
     "data": {
      "image/png": "[encoded data removed]",
      "text/plain": [
       "<Figure size 432x288 with 1 Axes>"
      ]
     },
     "metadata": {
      "needs_background": "light"
     },
     "output_type": "display_data"
    }
   ],
   "source": [
    "from sklearn.linear_model import ARDRegression\n",
    "evaluate_model(ARDRegression(compute_score=True)).coef_    \n"
   ]
  },
  {
   "cell_type": "code",
   "execution_count": 23,
   "metadata": {},
   "outputs": [
    {
     "data": {
      "text/plain": [
       "343.49480000000005"
      ]
     },
     "execution_count": 23,
     "metadata": {},
     "output_type": "execute_result"
    }
   ],
   "source": [
    "def calculate_swingweight(weight, balance, flex=None):\n",
    "    if flex is None:\n",
    "        intercept = -190.784 #-190.78397629732342\n",
    "        beta_1 =  0.8 # 0.79960292\n",
    "        beta_2 = 7.763 #7.76294213\n",
    "        return intercept + weight * beta_1 + balance * beta_2\n",
    "    else:\n",
    "        intercept = round(-188.75121065107402, 3)\n",
    "        beta_1 = round(0.80260777, 3)\n",
    "        beta_2 = round(8.23381858,3)\n",
    "        beta_3 = round(-0.28220441,3)\n",
    "        return intercept + weight * beta_1 + balance * beta_2 + flex * beta_3\n",
    "calculate_swingweight(362, 31.7, 69)"
   ]
  },
  {
   "cell_type": "code",
   "execution_count": 24,
   "metadata": {},
   "outputs": [
    {
     "data": {
      "text/plain": [
       "336.832"
      ]
     },
     "execution_count": 24,
     "metadata": {},
     "output_type": "execute_result"
    }
   ],
   "source": [
    "calculate_swingweight(349,32)"
   ]
  },
  {
   "cell_type": "code",
   "execution_count": 25,
   "metadata": {},
   "outputs": [
    {
     "name": "stdout",
     "output_type": "stream",
     "text": [
      "train_score 0.731433119254426\n",
      "test_score 0.6624993510593729\n",
      "mean_absolute_error 4.565412298669379\n",
      "RMSE 5.993497129869059\n",
      "median_absolute_error 3.5172084728894504\n",
      "outliers 4\n",
      "[0.79960292 7.76294213]\n",
      "-190.78397629732342\n"
     ]
    },
    {
     "data": {
      "text/plain": [
       "{'alphas': array([1.e-04, 1.e-03, 1.e-02, 1.e-01, 1.e+00, 1.e+01]),\n",
       " 'cv': None,\n",
       " 'fit_intercept': True,\n",
       " 'gcv_mode': None,\n",
       " 'normalize': False,\n",
       " 'scoring': None,\n",
       " 'store_cv_values': False}"
      ]
     },
     "execution_count": 25,
     "metadata": {},
     "output_type": "execute_result"
    },
    {
     "data": {
      "image/png": "[encoded data removed]",
      "text/plain": [
       "<Figure size 432x288 with 1 Axes>"
      ]
     },
     "metadata": {
      "needs_background": "light"
     },
     "output_type": "display_data"
    }
   ],
   "source": [
    "from sklearn.linear_model import RidgeCV, Ridge\n",
    "\n",
    "ridge = evaluate_model(RidgeCV(alphas=[1e-4,1e-3, 1e-2, 1e-1, 1,10]))    \n",
    "print(ridge.coef_)\n",
    "print(ridge.intercept_)\n",
    "ridge.get_params()"
   ]
  },
  {
   "cell_type": "code",
   "execution_count": 26,
   "metadata": {},
   "outputs": [
    {
     "name": "stdout",
     "output_type": "stream",
     "text": [
      "{'alpha': 1.727780074568463}\n",
      "train_score 0.7312997072422128\n",
      "test_score 0.6648720520563859\n",
      "mean_absolute_error 4.549337396180168\n",
      "RMSE 5.979067587410515\n",
      "median_absolute_error 3.510003427801905\n",
      "outliers 3\n"
     ]
    },
    {
     "data": {
      "text/plain": [
       "RandomizedSearchCV(cv=None, error_score=nan,\n",
       "                   estimator=Ridge(alpha=1.0, copy_X=True, fit_intercept=True,\n",
       "                                   max_iter=None, normalize=False,\n",
       "                                   random_state=None, solver='auto',\n",
       "                                   tol=0.001),\n",
       "                   iid='deprecated', n_iter=100, n_jobs=None,\n",
       "                   param_distributions={'alpha': <scipy.stats._distn_infrastructure.rv_frozen object at 0x7f864d6fd210>},\n",
       "                   pre_dispatch='2*n_jobs', random_state=42, refit=True,\n",
       "                   return_train_score=False, scoring='explained_variance',\n",
       "                   verbose=0)"
      ]
     },
     "execution_count": 26,
     "metadata": {},
     "output_type": "execute_result"
    },
    {
     "data": {
      "image/png": "[encoded data removed]",
      "text/plain": [
       "<Figure size 432x288 with 1 Axes>"
      ]
     },
     "metadata": {
      "needs_background": "light"
     },
     "output_type": "display_data"
    }
   ],
   "source": [
    "from sklearn.model_selection import RandomizedSearchCV\n",
    "from scipy.stats import uniform\n",
    "\n",
    "rng = 42\n",
    "scoring = 'explained_variance'\n",
    "#scoring = 'neg_mean_squared_error'\n",
    "#scoring = 'neg_mean_absolute_error'\n",
    "#scoring =  'neg_median_absolute_error'\n",
    "\n",
    "\n",
    "distributions = dict(alpha=uniform(loc=0, scale=4))\n",
    "\n",
    "search = RandomizedSearchCV(Ridge(), distributions,n_iter=100, random_state=rng, scoring=scoring).fit(X_train,y_train)\n",
    "print(search.best_params_)\n",
    "evaluate_model(search)"
   ]
  },
  {
   "cell_type": "code",
   "execution_count": 27,
   "metadata": {},
   "outputs": [
    {
     "data": {
      "text/plain": [
       "array([338.43065017])"
      ]
     },
     "execution_count": 27,
     "metadata": {},
     "output_type": "execute_result"
    }
   ],
   "source": [
    "predict(RidgeCV(alphas=[1e-3, 1e-2, 1e-1, 1]), 68, 357, 31.4)"
   ]
  },
  {
   "cell_type": "code",
   "execution_count": 28,
   "metadata": {},
   "outputs": [
    {
     "name": "stdout",
     "output_type": "stream",
     "text": [
      "train_score 0.7306836086435715\n",
      "test_score 0.6679292875581695\n",
      "mean_absolute_error 4.511835674316478\n",
      "RMSE 5.945087932309356\n",
      "median_absolute_error 3.5199839659337613\n",
      "outliers 3\n"
     ]
    },
    {
     "data": {
      "text/plain": [
       "array([0.78166199, 7.30009679])"
      ]
     },
     "execution_count": 28,
     "metadata": {},
     "output_type": "execute_result"
    },
    {
     "data": {
      "image/png": "[encoded data removed]",
      "text/plain": [
       "<Figure size 432x288 with 1 Axes>"
      ]
     },
     "metadata": {
      "needs_background": "light"
     },
     "output_type": "display_data"
    }
   ],
   "source": [
    "from sklearn.linear_model import ElasticNetCV\n",
    "model = evaluate_model(ElasticNetCV(l1_ratio=[0.01,0.1,0.2,0.3,0.4,0.5,0.6,0.7,0.8,0.9,1.0], cv=5, random_state=0))    \n",
    "model.coef_"
   ]
  },
  {
   "cell_type": "code",
   "execution_count": 29,
   "metadata": {},
   "outputs": [
    {
     "data": {
      "text/plain": [
       "array([338.16132655])"
      ]
     },
     "execution_count": 29,
     "metadata": {},
     "output_type": "execute_result"
    }
   ],
   "source": [
    "predict(ElasticNetCV(cv=5, random_state=0), 68, 357, 31.4)"
   ]
  },
  {
   "cell_type": "code",
   "execution_count": 30,
   "metadata": {},
   "outputs": [
    {
     "name": "stdout",
     "output_type": "stream",
     "text": [
      "train_score 0.6784909844115488\n",
      "test_score 0.6689063988728943\n",
      "mean_absolute_error 4.514000509804719\n",
      "RMSE 5.936334838477504\n",
      "median_absolute_error 3.2381406237336137\n",
      "outliers 3\n"
     ]
    },
    {
     "name": "stderr",
     "output_type": "stream",
     "text": [
      "/Users/niclasmettenleiter/opt/anaconda3/lib/python3.7/site-packages/sklearn/svm/_base.py:947: ConvergenceWarning: Liblinear failed to converge, increase the number of iterations.\n",
      "  \"the number of iterations.\", ConvergenceWarning)\n"
     ]
    },
    {
     "data": {
      "text/plain": [
       "LinearSVR(C=1.0, dual=True, epsilon=0.0, fit_intercept=True,\n",
       "          intercept_scaling=1.0, loss='epsilon_insensitive', max_iter=30000,\n",
       "          random_state=42, tol=0.0001, verbose=0)"
      ]
     },
     "execution_count": 30,
     "metadata": {},
     "output_type": "execute_result"
    },
    {
     "data": {
      "image/png": "[encoded data removed]",
      "text/plain": [
       "<Figure size 432x288 with 1 Axes>"
      ]
     },
     "metadata": {
      "needs_background": "light"
     },
     "output_type": "display_data"
    }
   ],
   "source": [
    "from sklearn import svm\n",
    "evaluate_model(svm.LinearSVR(max_iter=30000, random_state=42))    \n"
   ]
  },
  {
   "cell_type": "code",
   "execution_count": 31,
   "metadata": {},
   "outputs": [
    {
     "name": "stdout",
     "output_type": "stream",
     "text": [
      "train_score 0.2672876603270222\n",
      "test_score 0.17914589841327877\n",
      "mean_absolute_error 7.031965386704838\n",
      "RMSE 9.347080475991717\n",
      "median_absolute_error 5.382177384124105\n",
      "outliers 3\n"
     ]
    },
    {
     "data": {
      "text/plain": [
       "SGDRegressor(alpha=0.0001, average=False, early_stopping=False, epsilon=0.1,\n",
       "             eta0=0.01, fit_intercept=True, l1_ratio=0.15,\n",
       "             learning_rate='invscaling', loss='huber', max_iter=1000,\n",
       "             n_iter_no_change=5, penalty='l2', power_t=0.25, random_state=42,\n",
       "             shuffle=True, tol=0.001, validation_fraction=0.1, verbose=0,\n",
       "             warm_start=False)"
      ]
     },
     "execution_count": 31,
     "metadata": {},
     "output_type": "execute_result"
    },
    {
     "data": {
      "image/png": "[encoded data removed]",
      "text/plain": [
       "<Figure size 432x288 with 1 Axes>"
      ]
     },
     "metadata": {
      "needs_background": "light"
     },
     "output_type": "display_data"
    }
   ],
   "source": [
    "from sklearn.linear_model import SGDRegressor\n",
    "evaluate_model(SGDRegressor(loss=\"huber\",  random_state=42))    \n"
   ]
  },
  {
   "cell_type": "code",
   "execution_count": 32,
   "metadata": {},
   "outputs": [
    {
     "name": "stdout",
     "output_type": "stream",
     "text": [
      "train_score 0.6943064109004136\n",
      "test_score 0.681644670982382\n",
      "mean_absolute_error 4.476910564611552\n",
      "RMSE 5.821019546138652\n",
      "median_absolute_error 3.833749116580293\n",
      "outliers 3\n"
     ]
    },
    {
     "data": {
      "text/plain": [
       "GaussianProcessRegressor(alpha=1e-10, copy_X_train=True,\n",
       "                         kernel=DotProduct(sigma_0=1) + WhiteKernel(noise_level=0.8),\n",
       "                         n_restarts_optimizer=0, normalize_y=False,\n",
       "                         optimizer='fmin_l_bfgs_b', random_state=42)"
      ]
     },
     "execution_count": 32,
     "metadata": {},
     "output_type": "execute_result"
    },
    {
     "data": {
      "image/png": "[encoded data removed]",
      "text/plain": [
       "<Figure size 432x288 with 1 Axes>"
      ]
     },
     "metadata": {
      "needs_background": "light"
     },
     "output_type": "display_data"
    }
   ],
   "source": [
    "from sklearn.gaussian_process import GaussianProcessRegressor\n",
    "from sklearn.gaussian_process.kernels import DotProduct, WhiteKernel\n",
    "kernel = DotProduct() + WhiteKernel(noise_level=0.8)\n",
    "evaluate_model(GaussianProcessRegressor(kernel=kernel, random_state=42))    \n"
   ]
  },
  {
   "cell_type": "code",
   "execution_count": 33,
   "metadata": {},
   "outputs": [
    {
     "name": "stdout",
     "output_type": "stream",
     "text": [
      "train_score 0.9168829757335794\n",
      "test_score 0.38720014286335\n",
      "mean_absolute_error 6.0303418803418785\n",
      "RMSE 8.076111816536311\n",
      "median_absolute_error 4.449999999999989\n",
      "outliers 5\n"
     ]
    },
    {
     "data": {
      "text/plain": [
       "DecisionTreeRegressor(ccp_alpha=0.0, criterion='mse', max_depth=None,\n",
       "                      max_features=None, max_leaf_nodes=None,\n",
       "                      min_impurity_decrease=0.0, min_impurity_split=None,\n",
       "                      min_samples_leaf=1, min_samples_split=2,\n",
       "                      min_weight_fraction_leaf=0.0, presort='deprecated',\n",
       "                      random_state=None, splitter='best')"
      ]
     },
     "execution_count": 33,
     "metadata": {},
     "output_type": "execute_result"
    },
    {
     "data": {
      "image/png": "[encoded data removed]",
      "text/plain": [
       "<Figure size 432x288 with 1 Axes>"
      ]
     },
     "metadata": {
      "needs_background": "light"
     },
     "output_type": "display_data"
    }
   ],
   "source": [
    "from sklearn import tree\n",
    "evaluate_model(tree.DecisionTreeRegressor())    "
   ]
  },
  {
   "cell_type": "code",
   "execution_count": 34,
   "metadata": {},
   "outputs": [
    {
     "name": "stdout",
     "output_type": "stream",
     "text": [
      "train_score 0.7696436007480987\n",
      "test_score 0.5417790969348322\n",
      "mean_absolute_error 5.096385077870447\n",
      "RMSE 6.9836174910239865\n",
      "median_absolute_error 3.5330645161290306\n",
      "outliers 5\n"
     ]
    },
    {
     "data": {
      "text/plain": [
       "AdaBoostRegressor(base_estimator=None, learning_rate=1.0, loss='square',\n",
       "                  n_estimators=300, random_state=None)"
      ]
     },
     "execution_count": 34,
     "metadata": {},
     "output_type": "execute_result"
    },
    {
     "data": {
      "image/png": "[encoded data removed]",
      "text/plain": [
       "<Figure size 432x288 with 1 Axes>"
      ]
     },
     "metadata": {
      "needs_background": "light"
     },
     "output_type": "display_data"
    }
   ],
   "source": [
    "from sklearn.ensemble import AdaBoostRegressor, GradientBoostingRegressor,RandomForestRegressor\n",
    "evaluate_model(AdaBoostRegressor(n_estimators=300, loss=\"square\"))    "
   ]
  },
  {
   "cell_type": "code",
   "execution_count": 35,
   "metadata": {},
   "outputs": [
    {
     "data": {
      "text/plain": [
       "array([343.])"
      ]
     },
     "execution_count": 35,
     "metadata": {},
     "output_type": "execute_result"
    }
   ],
   "source": [
    "predict(AdaBoostRegressor(n_estimators=300, loss=\"square\"), 68, 357, 31.4)"
   ]
  },
  {
   "cell_type": "code",
   "execution_count": 36,
   "metadata": {},
   "outputs": [],
   "source": [
    "def warn(*args, **kwargs):\n",
    "    pass\n",
    "import warnings\n",
    "warnings.warn = warn"
   ]
  },
  {
   "cell_type": "code",
   "execution_count": 37,
   "metadata": {},
   "outputs": [],
   "source": [
    "from sklearn.model_selection import GridSearchCV\n",
    "from scipy.stats import randint\n",
    "# param_grid = {\n",
    "#     \"loss\": ['ls', 'lad', 'huber', 'quantile'],\n",
    "#     \"learning_rate\": [1e-4, 1e-3, 1e-2, 1e-1],\n",
    "#     \"n_estimators\": randint(10,500),\n",
    "#     \"criterion\": ['friedman_mse', 'mse'],\n",
    "#     \"min_samples_split\": randint(2,5),\n",
    "#     \"min_samples_leaf\": randint(1,4),\n",
    "#     \"max_depth\": randint(1,5)\n",
    "# }\n",
    "\n",
    "# scoring = 'explained_variance'\n",
    "# #scoring = 'neg_mean_squared_error'\n",
    "# #scoring = 'neg_mean_absolute_error'\n",
    "# #scoring =  'neg_median_absolute_error'\n",
    "\n",
    "# clf = HalvingRandomSearchCV(\n",
    "#     GradientBoostingRegressor(random_state=42),\n",
    "#     param_grid,\n",
    "#     factor=2,\n",
    "#     n_jobs=4,\n",
    "#     scoring='neg_mean_absolute_error'\n",
    "# )\n",
    "# evaluate_model(clf)    "
   ]
  },
  {
   "cell_type": "code",
   "execution_count": null,
   "metadata": {},
   "outputs": [],
   "source": []
  },
  {
   "cell_type": "code",
   "execution_count": 38,
   "metadata": {},
   "outputs": [
    {
     "name": "stdout",
     "output_type": "stream",
     "text": [
      "train_score 0.8031703671201439\n",
      "test_score 0.5836508083412602\n",
      "mean_absolute_error 4.9943658737909224\n",
      "RMSE 6.656897324663076\n",
      "median_absolute_error 4.278350830078125\n",
      "outliers 2\n"
     ]
    },
    {
     "data": {
      "text/plain": [
       "XGBRegressor(base_score=0.5, booster='gbtree', colsample_bylevel=1,\n",
       "             colsample_bynode=1, colsample_bytree=1, gamma=0, gpu_id=-1,\n",
       "             importance_type='gain', interaction_constraints='',\n",
       "             learning_rate=0.300000012, max_delta_step=0, max_depth=1,\n",
       "             min_child_weight=1, missing=nan, monotone_constraints='()',\n",
       "             n_estimators=100, n_jobs=16, num_parallel_tree=1,\n",
       "             objective='reg:squarederror', random_state=42, reg_alpha=0,\n",
       "             reg_lambda=1, scale_pos_weight=1, subsample=1, tree_method='exact',\n",
       "             validate_parameters=1, verbosity=None)"
      ]
     },
     "execution_count": 38,
     "metadata": {},
     "output_type": "execute_result"
    },
    {
     "data": {
      "image/png": "[encoded data removed]",
      "text/plain": [
       "<Figure size 432x288 with 1 Axes>"
      ]
     },
     "metadata": {
      "needs_background": "light"
     },
     "output_type": "display_data"
    }
   ],
   "source": [
    "from xgboost import XGBRegressor\n",
    "from scipy.stats import uniform\n",
    "\n",
    "regr = XGBRegressor(random_state=42, n_estimators=100, max_depth=1)\n",
    "evaluate_model(regr)"
   ]
  },
  {
   "cell_type": "code",
   "execution_count": 39,
   "metadata": {},
   "outputs": [
    {
     "name": "stdout",
     "output_type": "stream",
     "text": [
      "train_score 0.848056637657466\n",
      "test_score 0.5576851029888883\n",
      "mean_absolute_error 5.067754327257696\n",
      "RMSE 6.861337446543927\n",
      "median_absolute_error 3.7265546851841123\n",
      "outliers 6\n"
     ]
    },
    {
     "data": {
      "text/plain": [
       "GradientBoostingRegressor(alpha=0.9, ccp_alpha=0.0, criterion='friedman_mse',\n",
       "                          init=None, learning_rate=0.1, loss='ls', max_depth=3,\n",
       "                          max_features=None, max_leaf_nodes=None,\n",
       "                          min_impurity_decrease=0.0, min_impurity_split=None,\n",
       "                          min_samples_leaf=1, min_samples_split=2,\n",
       "                          min_weight_fraction_leaf=0.0, n_estimators=40,\n",
       "                          n_iter_no_change=None, presort='deprecated',\n",
       "                          random_state=42, subsample=1.0, tol=0.0001,\n",
       "                          validation_fraction=0.1, verbose=0, warm_start=False)"
      ]
     },
     "execution_count": 39,
     "metadata": {},
     "output_type": "execute_result"
    },
    {
     "data": {
      "image/png": "[encoded data removed]",
      "text/plain": [
       "<Figure size 432x288 with 1 Axes>"
      ]
     },
     "metadata": {
      "needs_background": "light"
     },
     "output_type": "display_data"
    }
   ],
   "source": [
    "evaluate_model(GradientBoostingRegressor(\n",
    "    loss=\"ls\",\n",
    "    n_estimators=40,\n",
    "    random_state=42\n",
    "))"
   ]
  },
  {
   "cell_type": "code",
   "execution_count": 40,
   "metadata": {},
   "outputs": [
    {
     "data": {
      "text/plain": [
       "array([332.78520357])"
      ]
     },
     "execution_count": 40,
     "metadata": {},
     "output_type": "execute_result"
    }
   ],
   "source": [
    "predict(GradientBoostingRegressor(\n",
    "    loss=\"ls\",\n",
    "    n_estimators=40,\n",
    "    random_state=42\n",
    "), 68, 357, 31.4)"
   ]
  },
  {
   "cell_type": "code",
   "execution_count": 41,
   "metadata": {},
   "outputs": [
    {
     "name": "stdout",
     "output_type": "stream",
     "text": [
      "train_score 0.8892439512592054\n",
      "test_score 0.5991475953318741\n",
      "mean_absolute_error 4.778630952380949\n",
      "RMSE 6.531835551331865\n",
      "median_absolute_error 3.864375000000024\n",
      "outliers 5\n"
     ]
    },
    {
     "data": {
      "text/plain": [
       "RandomForestRegressor(bootstrap=True, ccp_alpha=0.0, criterion='mae',\n",
       "                      max_depth=None, max_features='auto', max_leaf_nodes=None,\n",
       "                      max_samples=None, min_impurity_decrease=0.0,\n",
       "                      min_impurity_split=None, min_samples_leaf=1,\n",
       "                      min_samples_split=2, min_weight_fraction_leaf=0.0,\n",
       "                      n_estimators=400, n_jobs=None, oob_score=False,\n",
       "                      random_state=42, verbose=0, warm_start=False)"
      ]
     },
     "execution_count": 41,
     "metadata": {},
     "output_type": "execute_result"
    },
    {
     "data": {
      "image/png": "[encoded data removed]",
      "text/plain": [
       "<Figure size 432x288 with 1 Axes>"
      ]
     },
     "metadata": {
      "needs_background": "light"
     },
     "output_type": "display_data"
    }
   ],
   "source": [
    "evaluate_model(RandomForestRegressor(\n",
    "    n_estimators=400,\n",
    "    criterion=\"mae\",\n",
    "    random_state=42))    "
   ]
  },
  {
   "cell_type": "code",
   "execution_count": 42,
   "metadata": {},
   "outputs": [
    {
     "data": {
      "text/plain": [
       "array([335.25125])"
      ]
     },
     "execution_count": 42,
     "metadata": {},
     "output_type": "execute_result"
    }
   ],
   "source": [
    "clf = RandomForestRegressor(\n",
    "    n_estimators=400,\n",
    "    criterion=\"mae\",\n",
    "    random_state=42).fit(X_train,y_train)\n",
    "predict(RandomForestRegressor(\n",
    "    n_estimators=400,\n",
    "    criterion=\"mae\",\n",
    "    random_state=42), 68, 357, 31.4)"
   ]
  },
  {
   "cell_type": "code",
   "execution_count": 43,
   "metadata": {},
   "outputs": [
    {
     "name": "stdout",
     "output_type": "stream",
     "text": [
      "train_score 0.7306836086435715\n",
      "test_score 0.6679292875581695\n",
      "mean_absolute_error 4.511835674316478\n",
      "RMSE 5.945087932309356\n",
      "median_absolute_error 3.5199839659337613\n",
      "outliers 3\n"
     ]
    },
    {
     "data": {
      "image/png": "[encoded data removed]",
      "text/plain": [
       "<Figure size 432x288 with 1 Axes>"
      ]
     },
     "metadata": {
      "needs_background": "light"
     },
     "output_type": "display_data"
    }
   ],
   "source": [
    "from sklearn.linear_model import LassoCV\n",
    "las = evaluate_model(LassoCV()) "
   ]
  },
  {
   "cell_type": "code",
   "execution_count": 44,
   "metadata": {},
   "outputs": [],
   "source": [
    "%matplotlib inline\n"
   ]
  },
  {
   "cell_type": "code",
   "execution_count": 45,
   "metadata": {},
   "outputs": [
    {
     "data": {
      "text/plain": [
       "<mpl_toolkits.mplot3d.art3d.Path3DCollection at 0x7f864d722610>"
      ]
     },
     "execution_count": 45,
     "metadata": {},
     "output_type": "execute_result"
    },
    {
     "data": {
      "image/png": "[encoded data removed]",
      "text/plain": [
       "<Figure size 864x864 with 1 Axes>"
      ]
     },
     "metadata": {
      "needs_background": "light"
     },
     "output_type": "display_data"
    }
   ],
   "source": [
    "from mpl_toolkits.mplot3d import Axes3D\n",
    "\n",
    "coefs = [ 0.79960292,  7.76294213 ]\n",
    "intercept = -190.78397629732342\n",
    "x_range = np.arange(X_train[\"weight\"].min(), X_train[\"weight\"].max())\n",
    "y_range = np.arange(X_train[\"balance\"].min(), X_train[\"balance\"].max())\n",
    "\n",
    "X, Y = np.meshgrid(x_range, y_range)\n",
    "Z = X*coefs[0]+Y*coefs[1]+intercept\n",
    "\n",
    "fig = plt.figure(figsize=plt.figaspect(1)*3)\n",
    "ax = plt.axes(projection='3d')\n",
    "ax.set_xlabel(\"Weight\")\n",
    "ax.set_ylabel(\"Balance\")\n",
    "ax.set_zlabel(\"Swingweight\")\n",
    "\n",
    "ax.plot_surface(X, Y, Z, rstride=1, cstride=1, alpha = 0.2)\n",
    "ax.scatter(X_train[\"weight\"], X_train[\"balance\"], y_train, s=20)\n"
   ]
  },
  {
   "cell_type": "code",
   "execution_count": null,
   "metadata": {},
   "outputs": [],
   "source": []
  }
 ],
 "metadata": {
  "kernelspec": {
   "display_name": "Python 3",
   "language": "python",
   "name": "python3"
  },
  "language_info": {
   "codemirror_mode": {
    "name": "ipython",
    "version": 3
   },
   "file_extension": ".py",
   "mimetype": "text/x-python",
   "name": "python",
   "nbconvert_exporter": "python",
   "pygments_lexer": "ipython3",
   "version": "3.7.4"
  }
 },
 "nbformat": 4,
 "nbformat_minor": 4
}
