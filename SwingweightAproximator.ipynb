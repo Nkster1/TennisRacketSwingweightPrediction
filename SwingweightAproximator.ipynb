{
 "cells": [
  {
   "cell_type": "code",
   "execution_count": 1,
   "metadata": {},
   "outputs": [],
   "source": [
    "import json\n",
    "import pandas as pd"
   ]
  },
  {
   "cell_type": "code",
   "execution_count": 2,
   "metadata": {},
   "outputs": [],
   "source": [
    "with open(\"twu.tennis-warehouse.com.json\", \"r\") as f:  \n",
    "    data = json.load(f)"
   ]
  },
  {
   "cell_type": "code",
   "execution_count": 3,
   "metadata": {},
   "outputs": [],
   "source": [
    "log_data_entries = data['log']['entries']\n",
    "racquet_data = []\n",
    "\n",
    "for ele in log_data_entries:\n",
    "    text_response = ele['response']['content']['text']\n",
    "    if text_response[:10] == '{\"pcode\":\"':\n",
    "        racquet_data.append(json.loads(text_response))\n",
    "\n"
   ]
  },
  {
   "cell_type": "code",
   "execution_count": 4,
   "metadata": {},
   "outputs": [
    {
     "data": {
      "text/plain": [
       "Index(['pcode', 'mfg', 'racquet', 'headsize', 'length', 'weight', 'balance',\n",
       "       'swingweight', 'flex', 'acor', 'sweet', 'rccode', 'current',\n",
       "       'twistweight', 'hittingweight', 'vibration', 'filter', 'distance',\n",
       "       'spin', 'angle', 'shotspeed', 'swingspeed', 'plow', 'time'],\n",
       "      dtype='object')"
      ]
     },
     "execution_count": 4,
     "metadata": {},
     "output_type": "execute_result"
    }
   ],
   "source": [
    "df = pd.DataFrame(racquet_data)\n",
    "df.columns"
   ]
  },
  {
   "cell_type": "code",
   "execution_count": 5,
   "metadata": {},
   "outputs": [
    {
     "data": {
      "text/html": [
       "<div>\n",
       "<style scoped>\n",
       "    .dataframe tbody tr th:only-of-type {\n",
       "        vertical-align: middle;\n",
       "    }\n",
       "\n",
       "    .dataframe tbody tr th {\n",
       "        vertical-align: top;\n",
       "    }\n",
       "\n",
       "    .dataframe thead th {\n",
       "        text-align: right;\n",
       "    }\n",
       "</style>\n",
       "<table border=\"1\" class=\"dataframe\">\n",
       "  <thead>\n",
       "    <tr style=\"text-align: right;\">\n",
       "      <th></th>\n",
       "      <th>pcode</th>\n",
       "      <th>mfg</th>\n",
       "      <th>racquet</th>\n",
       "      <th>headsize</th>\n",
       "      <th>length</th>\n",
       "      <th>weight</th>\n",
       "      <th>balance</th>\n",
       "      <th>swingweight</th>\n",
       "      <th>flex</th>\n",
       "      <th>acor</th>\n",
       "      <th>...</th>\n",
       "      <th>hittingweight</th>\n",
       "      <th>vibration</th>\n",
       "      <th>filter</th>\n",
       "      <th>distance</th>\n",
       "      <th>spin</th>\n",
       "      <th>angle</th>\n",
       "      <th>shotspeed</th>\n",
       "      <th>swingspeed</th>\n",
       "      <th>plow</th>\n",
       "      <th>time</th>\n",
       "    </tr>\n",
       "  </thead>\n",
       "  <tbody>\n",
       "    <tr>\n",
       "      <th>0</th>\n",
       "      <td>VS5</td>\n",
       "      <td>Volkl</td>\n",
       "      <td>V-Sense 5</td>\n",
       "      <td>100</td>\n",
       "      <td>27.00</td>\n",
       "      <td>276</td>\n",
       "      <td>33.5</td>\n",
       "      <td>281</td>\n",
       "      <td>70</td>\n",
       "      <td>0.255</td>\n",
       "      <td>...</td>\n",
       "      <td>114</td>\n",
       "      <td>164</td>\n",
       "      <td>21/2-effort</td>\n",
       "      <td>68.5</td>\n",
       "      <td>1596</td>\n",
       "      <td>3.6</td>\n",
       "      <td>64.5</td>\n",
       "      <td>51.4</td>\n",
       "      <td>37</td>\n",
       "      <td>0.89</td>\n",
       "    </tr>\n",
       "    <tr>\n",
       "      <th>1</th>\n",
       "      <td>U100UL</td>\n",
       "      <td>Wilson</td>\n",
       "      <td>Ultra 100UL</td>\n",
       "      <td>100</td>\n",
       "      <td>27.00</td>\n",
       "      <td>270</td>\n",
       "      <td>34.0</td>\n",
       "      <td>283</td>\n",
       "      <td>68</td>\n",
       "      <td>0.260</td>\n",
       "      <td>...</td>\n",
       "      <td>116</td>\n",
       "      <td>164</td>\n",
       "      <td>21/2-effort</td>\n",
       "      <td>68.5</td>\n",
       "      <td>1595</td>\n",
       "      <td>3.6</td>\n",
       "      <td>64.8</td>\n",
       "      <td>51.3</td>\n",
       "      <td>38</td>\n",
       "      <td>0.88</td>\n",
       "    </tr>\n",
       "    <tr>\n",
       "      <th>2</th>\n",
       "      <td>BULS1H</td>\n",
       "      <td>Wilson</td>\n",
       "      <td>Burn 100 ULS (2017)</td>\n",
       "      <td>100</td>\n",
       "      <td>27.00</td>\n",
       "      <td>281</td>\n",
       "      <td>34.1</td>\n",
       "      <td>288</td>\n",
       "      <td>67</td>\n",
       "      <td>0.273</td>\n",
       "      <td>...</td>\n",
       "      <td>119</td>\n",
       "      <td>158</td>\n",
       "      <td>21/2-effort</td>\n",
       "      <td>68.2</td>\n",
       "      <td>1579</td>\n",
       "      <td>3.4</td>\n",
       "      <td>65.2</td>\n",
       "      <td>51.0</td>\n",
       "      <td>39</td>\n",
       "      <td>0.87</td>\n",
       "    </tr>\n",
       "    <tr>\n",
       "      <th>3</th>\n",
       "      <td>YEZLLG</td>\n",
       "      <td>Yonex</td>\n",
       "      <td>Ezone Lite</td>\n",
       "      <td>100</td>\n",
       "      <td>27.00</td>\n",
       "      <td>282</td>\n",
       "      <td>33.3</td>\n",
       "      <td>292</td>\n",
       "      <td>64</td>\n",
       "      <td>0.272</td>\n",
       "      <td>...</td>\n",
       "      <td>119</td>\n",
       "      <td>156</td>\n",
       "      <td>21/2-effort</td>\n",
       "      <td>68.1</td>\n",
       "      <td>1579</td>\n",
       "      <td>3.4</td>\n",
       "      <td>65.2</td>\n",
       "      <td>51.0</td>\n",
       "      <td>39</td>\n",
       "      <td>0.87</td>\n",
       "    </tr>\n",
       "    <tr>\n",
       "      <th>4</th>\n",
       "      <td>TPS270</td>\n",
       "      <td>Tecnifibre</td>\n",
       "      <td>T-Flash PS 270</td>\n",
       "      <td>100</td>\n",
       "      <td>27.00</td>\n",
       "      <td>285</td>\n",
       "      <td>34.1</td>\n",
       "      <td>293</td>\n",
       "      <td>69</td>\n",
       "      <td>0.271</td>\n",
       "      <td>...</td>\n",
       "      <td>119</td>\n",
       "      <td>160</td>\n",
       "      <td>21/2-effort</td>\n",
       "      <td>67.8</td>\n",
       "      <td>1570</td>\n",
       "      <td>3.5</td>\n",
       "      <td>64.9</td>\n",
       "      <td>50.7</td>\n",
       "      <td>39</td>\n",
       "      <td>0.87</td>\n",
       "    </tr>\n",
       "    <tr>\n",
       "      <th>...</th>\n",
       "      <td>...</td>\n",
       "      <td>...</td>\n",
       "      <td>...</td>\n",
       "      <td>...</td>\n",
       "      <td>...</td>\n",
       "      <td>...</td>\n",
       "      <td>...</td>\n",
       "      <td>...</td>\n",
       "      <td>...</td>\n",
       "      <td>...</td>\n",
       "      <td>...</td>\n",
       "      <td>...</td>\n",
       "      <td>...</td>\n",
       "      <td>...</td>\n",
       "      <td>...</td>\n",
       "      <td>...</td>\n",
       "      <td>...</td>\n",
       "      <td>...</td>\n",
       "      <td>...</td>\n",
       "      <td>...</td>\n",
       "      <td>...</td>\n",
       "    </tr>\n",
       "    <tr>\n",
       "      <th>176</th>\n",
       "      <td>YEZ98T</td>\n",
       "      <td>Yonex</td>\n",
       "      <td>EZONE 98 Tour</td>\n",
       "      <td>98</td>\n",
       "      <td>27.00</td>\n",
       "      <td>332</td>\n",
       "      <td>33.0</td>\n",
       "      <td>330</td>\n",
       "      <td>62</td>\n",
       "      <td>0.320</td>\n",
       "      <td>...</td>\n",
       "      <td>134</td>\n",
       "      <td>141</td>\n",
       "      <td>21/2-effort</td>\n",
       "      <td>66.2</td>\n",
       "      <td>1502</td>\n",
       "      <td>2.9</td>\n",
       "      <td>66.3</td>\n",
       "      <td>49.2</td>\n",
       "      <td>43</td>\n",
       "      <td>0.83</td>\n",
       "    </tr>\n",
       "    <tr>\n",
       "      <th>177</th>\n",
       "      <td>320HD7</td>\n",
       "      <td>Yonex</td>\n",
       "      <td>VCORE Pro 97D</td>\n",
       "      <td>97</td>\n",
       "      <td>27.00</td>\n",
       "      <td>340</td>\n",
       "      <td>32.0</td>\n",
       "      <td>330</td>\n",
       "      <td>61</td>\n",
       "      <td>0.322</td>\n",
       "      <td>...</td>\n",
       "      <td>135</td>\n",
       "      <td>125</td>\n",
       "      <td>21/2-effort</td>\n",
       "      <td>66.3</td>\n",
       "      <td>1505</td>\n",
       "      <td>2.9</td>\n",
       "      <td>66.5</td>\n",
       "      <td>49.2</td>\n",
       "      <td>43</td>\n",
       "      <td>0.83</td>\n",
       "    </tr>\n",
       "    <tr>\n",
       "      <th>178</th>\n",
       "      <td>MXG7</td>\n",
       "      <td>Head</td>\n",
       "      <td>MxG7</td>\n",
       "      <td>115</td>\n",
       "      <td>27.60</td>\n",
       "      <td>281</td>\n",
       "      <td>37.0</td>\n",
       "      <td>318</td>\n",
       "      <td>69</td>\n",
       "      <td>0.320</td>\n",
       "      <td>...</td>\n",
       "      <td>134</td>\n",
       "      <td>159</td>\n",
       "      <td>21/2-effort</td>\n",
       "      <td>66.8</td>\n",
       "      <td>1523</td>\n",
       "      <td>2.9</td>\n",
       "      <td>66.9</td>\n",
       "      <td>49.6</td>\n",
       "      <td>43</td>\n",
       "      <td>0.83</td>\n",
       "    </tr>\n",
       "    <tr>\n",
       "      <th>179</th>\n",
       "      <td>LM8</td>\n",
       "      <td>Head</td>\n",
       "      <td>Liquid Metal 8 OS</td>\n",
       "      <td>112</td>\n",
       "      <td>27.25</td>\n",
       "      <td>280</td>\n",
       "      <td>36.2</td>\n",
       "      <td>322</td>\n",
       "      <td>63</td>\n",
       "      <td>0.319</td>\n",
       "      <td>...</td>\n",
       "      <td>132</td>\n",
       "      <td>143</td>\n",
       "      <td>21/2-effort</td>\n",
       "      <td>66.8</td>\n",
       "      <td>1524</td>\n",
       "      <td>2.9</td>\n",
       "      <td>66.8</td>\n",
       "      <td>49.7</td>\n",
       "      <td>42</td>\n",
       "      <td>0.83</td>\n",
       "    </tr>\n",
       "    <tr>\n",
       "      <th>180</th>\n",
       "      <td>PS1619</td>\n",
       "      <td>Babolat</td>\n",
       "      <td>Pure Strike 16x19 3rd Gen</td>\n",
       "      <td>98</td>\n",
       "      <td>27.00</td>\n",
       "      <td>323</td>\n",
       "      <td>33.0</td>\n",
       "      <td>327</td>\n",
       "      <td>66</td>\n",
       "      <td>0.317</td>\n",
       "      <td>...</td>\n",
       "      <td>134</td>\n",
       "      <td>147</td>\n",
       "      <td>21/2-effort</td>\n",
       "      <td>66.4</td>\n",
       "      <td>1511</td>\n",
       "      <td>2.9</td>\n",
       "      <td>66.3</td>\n",
       "      <td>49.4</td>\n",
       "      <td>43</td>\n",
       "      <td>0.83</td>\n",
       "    </tr>\n",
       "  </tbody>\n",
       "</table>\n",
       "<p>181 rows × 24 columns</p>\n",
       "</div>"
      ],
      "text/plain": [
       "      pcode         mfg                    racquet  headsize  length  weight  \\\n",
       "0       VS5       Volkl                  V-Sense 5       100   27.00     276   \n",
       "1    U100UL      Wilson                Ultra 100UL       100   27.00     270   \n",
       "2    BULS1H      Wilson        Burn 100 ULS (2017)       100   27.00     281   \n",
       "3    YEZLLG       Yonex                 Ezone Lite       100   27.00     282   \n",
       "4    TPS270  Tecnifibre             T-Flash PS 270       100   27.00     285   \n",
       "..      ...         ...                        ...       ...     ...     ...   \n",
       "176  YEZ98T       Yonex              EZONE 98 Tour        98   27.00     332   \n",
       "177  320HD7       Yonex              VCORE Pro 97D        97   27.00     340   \n",
       "178    MXG7        Head                       MxG7       115   27.60     281   \n",
       "179     LM8        Head          Liquid Metal 8 OS       112   27.25     280   \n",
       "180  PS1619     Babolat  Pure Strike 16x19 3rd Gen        98   27.00     323   \n",
       "\n",
       "     balance  swingweight  flex   acor  ...  hittingweight vibration  \\\n",
       "0       33.5          281    70  0.255  ...            114       164   \n",
       "1       34.0          283    68  0.260  ...            116       164   \n",
       "2       34.1          288    67  0.273  ...            119       158   \n",
       "3       33.3          292    64  0.272  ...            119       156   \n",
       "4       34.1          293    69  0.271  ...            119       160   \n",
       "..       ...          ...   ...    ...  ...            ...       ...   \n",
       "176     33.0          330    62  0.320  ...            134       141   \n",
       "177     32.0          330    61  0.322  ...            135       125   \n",
       "178     37.0          318    69  0.320  ...            134       159   \n",
       "179     36.2          322    63  0.319  ...            132       143   \n",
       "180     33.0          327    66  0.317  ...            134       147   \n",
       "\n",
       "          filter  distance  spin angle shotspeed swingspeed plow  time  \n",
       "0    21/2-effort      68.5  1596   3.6      64.5       51.4   37  0.89  \n",
       "1    21/2-effort      68.5  1595   3.6      64.8       51.3   38  0.88  \n",
       "2    21/2-effort      68.2  1579   3.4      65.2       51.0   39  0.87  \n",
       "3    21/2-effort      68.1  1579   3.4      65.2       51.0   39  0.87  \n",
       "4    21/2-effort      67.8  1570   3.5      64.9       50.7   39  0.87  \n",
       "..           ...       ...   ...   ...       ...        ...  ...   ...  \n",
       "176  21/2-effort      66.2  1502   2.9      66.3       49.2   43  0.83  \n",
       "177  21/2-effort      66.3  1505   2.9      66.5       49.2   43  0.83  \n",
       "178  21/2-effort      66.8  1523   2.9      66.9       49.6   43  0.83  \n",
       "179  21/2-effort      66.8  1524   2.9      66.8       49.7   42  0.83  \n",
       "180  21/2-effort      66.4  1511   2.9      66.3       49.4   43  0.83  \n",
       "\n",
       "[181 rows x 24 columns]"
      ]
     },
     "execution_count": 5,
     "metadata": {},
     "output_type": "execute_result"
    }
   ],
   "source": [
    "df = pd.DataFrame(racquet_data)\n",
    "normal_length_racquets = df#[df['length']==27.0]\n",
    "normal_length_racquets"
   ]
  },
  {
   "cell_type": "code",
   "execution_count": 6,
   "metadata": {},
   "outputs": [
    {
     "data": {
      "text/html": [
       "<div>\n",
       "<style scoped>\n",
       "    .dataframe tbody tr th:only-of-type {\n",
       "        vertical-align: middle;\n",
       "    }\n",
       "\n",
       "    .dataframe tbody tr th {\n",
       "        vertical-align: top;\n",
       "    }\n",
       "\n",
       "    .dataframe thead th {\n",
       "        text-align: right;\n",
       "    }\n",
       "</style>\n",
       "<table border=\"1\" class=\"dataframe\">\n",
       "  <thead>\n",
       "    <tr style=\"text-align: right;\">\n",
       "      <th></th>\n",
       "      <th>headsize</th>\n",
       "      <th>length</th>\n",
       "      <th>weight</th>\n",
       "      <th>balance</th>\n",
       "      <th>swingweight</th>\n",
       "      <th>flex</th>\n",
       "      <th>acor</th>\n",
       "      <th>sweet</th>\n",
       "      <th>twistweight</th>\n",
       "      <th>hittingweight</th>\n",
       "    </tr>\n",
       "  </thead>\n",
       "  <tbody>\n",
       "    <tr>\n",
       "      <th>headsize</th>\n",
       "      <td>1.000000</td>\n",
       "      <td>0.723444</td>\n",
       "      <td>-0.599071</td>\n",
       "      <td>0.746680</td>\n",
       "      <td>-0.181161</td>\n",
       "      <td>0.136140</td>\n",
       "      <td>0.070443</td>\n",
       "      <td>-0.044355</td>\n",
       "      <td>0.550930</td>\n",
       "      <td>0.082577</td>\n",
       "    </tr>\n",
       "    <tr>\n",
       "      <th>length</th>\n",
       "      <td>0.723444</td>\n",
       "      <td>1.000000</td>\n",
       "      <td>-0.383507</td>\n",
       "      <td>0.602687</td>\n",
       "      <td>0.123205</td>\n",
       "      <td>0.232750</td>\n",
       "      <td>0.223171</td>\n",
       "      <td>0.155876</td>\n",
       "      <td>0.338131</td>\n",
       "      <td>0.230702</td>\n",
       "    </tr>\n",
       "    <tr>\n",
       "      <th>weight</th>\n",
       "      <td>-0.599071</td>\n",
       "      <td>-0.383507</td>\n",
       "      <td>1.000000</td>\n",
       "      <td>-0.824583</td>\n",
       "      <td>0.686733</td>\n",
       "      <td>-0.244858</td>\n",
       "      <td>0.548516</td>\n",
       "      <td>0.599594</td>\n",
       "      <td>0.031961</td>\n",
       "      <td>0.560387</td>\n",
       "    </tr>\n",
       "    <tr>\n",
       "      <th>balance</th>\n",
       "      <td>0.746680</td>\n",
       "      <td>0.602687</td>\n",
       "      <td>-0.824583</td>\n",
       "      <td>1.000000</td>\n",
       "      <td>-0.296579</td>\n",
       "      <td>0.294544</td>\n",
       "      <td>-0.126449</td>\n",
       "      <td>-0.210071</td>\n",
       "      <td>0.244697</td>\n",
       "      <td>-0.132165</td>\n",
       "    </tr>\n",
       "    <tr>\n",
       "      <th>swingweight</th>\n",
       "      <td>-0.181161</td>\n",
       "      <td>0.123205</td>\n",
       "      <td>0.686733</td>\n",
       "      <td>-0.296579</td>\n",
       "      <td>1.000000</td>\n",
       "      <td>-0.150478</td>\n",
       "      <td>0.899281</td>\n",
       "      <td>0.915432</td>\n",
       "      <td>0.301626</td>\n",
       "      <td>0.913521</td>\n",
       "    </tr>\n",
       "    <tr>\n",
       "      <th>flex</th>\n",
       "      <td>0.136140</td>\n",
       "      <td>0.232750</td>\n",
       "      <td>-0.244858</td>\n",
       "      <td>0.294544</td>\n",
       "      <td>-0.150478</td>\n",
       "      <td>1.000000</td>\n",
       "      <td>-0.107462</td>\n",
       "      <td>-0.087778</td>\n",
       "      <td>0.008252</td>\n",
       "      <td>-0.099469</td>\n",
       "    </tr>\n",
       "    <tr>\n",
       "      <th>acor</th>\n",
       "      <td>0.070443</td>\n",
       "      <td>0.223171</td>\n",
       "      <td>0.548516</td>\n",
       "      <td>-0.126449</td>\n",
       "      <td>0.899281</td>\n",
       "      <td>-0.107462</td>\n",
       "      <td>1.000000</td>\n",
       "      <td>0.953856</td>\n",
       "      <td>0.649407</td>\n",
       "      <td>0.984295</td>\n",
       "    </tr>\n",
       "    <tr>\n",
       "      <th>sweet</th>\n",
       "      <td>-0.044355</td>\n",
       "      <td>0.155876</td>\n",
       "      <td>0.599594</td>\n",
       "      <td>-0.210071</td>\n",
       "      <td>0.915432</td>\n",
       "      <td>-0.087778</td>\n",
       "      <td>0.953856</td>\n",
       "      <td>1.000000</td>\n",
       "      <td>0.514561</td>\n",
       "      <td>0.938006</td>\n",
       "    </tr>\n",
       "    <tr>\n",
       "      <th>twistweight</th>\n",
       "      <td>0.550930</td>\n",
       "      <td>0.338131</td>\n",
       "      <td>0.031961</td>\n",
       "      <td>0.244697</td>\n",
       "      <td>0.301626</td>\n",
       "      <td>0.008252</td>\n",
       "      <td>0.649407</td>\n",
       "      <td>0.514561</td>\n",
       "      <td>1.000000</td>\n",
       "      <td>0.656235</td>\n",
       "    </tr>\n",
       "    <tr>\n",
       "      <th>hittingweight</th>\n",
       "      <td>0.082577</td>\n",
       "      <td>0.230702</td>\n",
       "      <td>0.560387</td>\n",
       "      <td>-0.132165</td>\n",
       "      <td>0.913521</td>\n",
       "      <td>-0.099469</td>\n",
       "      <td>0.984295</td>\n",
       "      <td>0.938006</td>\n",
       "      <td>0.656235</td>\n",
       "      <td>1.000000</td>\n",
       "    </tr>\n",
       "  </tbody>\n",
       "</table>\n",
       "</div>"
      ],
      "text/plain": [
       "               headsize    length    weight   balance  swingweight      flex  \\\n",
       "headsize       1.000000  0.723444 -0.599071  0.746680    -0.181161  0.136140   \n",
       "length         0.723444  1.000000 -0.383507  0.602687     0.123205  0.232750   \n",
       "weight        -0.599071 -0.383507  1.000000 -0.824583     0.686733 -0.244858   \n",
       "balance        0.746680  0.602687 -0.824583  1.000000    -0.296579  0.294544   \n",
       "swingweight   -0.181161  0.123205  0.686733 -0.296579     1.000000 -0.150478   \n",
       "flex           0.136140  0.232750 -0.244858  0.294544    -0.150478  1.000000   \n",
       "acor           0.070443  0.223171  0.548516 -0.126449     0.899281 -0.107462   \n",
       "sweet         -0.044355  0.155876  0.599594 -0.210071     0.915432 -0.087778   \n",
       "twistweight    0.550930  0.338131  0.031961  0.244697     0.301626  0.008252   \n",
       "hittingweight  0.082577  0.230702  0.560387 -0.132165     0.913521 -0.099469   \n",
       "\n",
       "                   acor     sweet  twistweight  hittingweight  \n",
       "headsize       0.070443 -0.044355     0.550930       0.082577  \n",
       "length         0.223171  0.155876     0.338131       0.230702  \n",
       "weight         0.548516  0.599594     0.031961       0.560387  \n",
       "balance       -0.126449 -0.210071     0.244697      -0.132165  \n",
       "swingweight    0.899281  0.915432     0.301626       0.913521  \n",
       "flex          -0.107462 -0.087778     0.008252      -0.099469  \n",
       "acor           1.000000  0.953856     0.649407       0.984295  \n",
       "sweet          0.953856  1.000000     0.514561       0.938006  \n",
       "twistweight    0.649407  0.514561     1.000000       0.656235  \n",
       "hittingweight  0.984295  0.938006     0.656235       1.000000  "
      ]
     },
     "execution_count": 6,
     "metadata": {},
     "output_type": "execute_result"
    }
   ],
   "source": [
    "df.corr('pearson')"
   ]
  },
  {
   "cell_type": "code",
   "execution_count": 7,
   "metadata": {},
   "outputs": [
    {
     "data": {
      "text/html": [
       "<div>\n",
       "<style scoped>\n",
       "    .dataframe tbody tr th:only-of-type {\n",
       "        vertical-align: middle;\n",
       "    }\n",
       "\n",
       "    .dataframe tbody tr th {\n",
       "        vertical-align: top;\n",
       "    }\n",
       "\n",
       "    .dataframe thead th {\n",
       "        text-align: right;\n",
       "    }\n",
       "</style>\n",
       "<table border=\"1\" class=\"dataframe\">\n",
       "  <thead>\n",
       "    <tr style=\"text-align: right;\">\n",
       "      <th></th>\n",
       "      <th>headsize</th>\n",
       "      <th>length</th>\n",
       "      <th>weight</th>\n",
       "      <th>balance</th>\n",
       "      <th>swingweight</th>\n",
       "      <th>flex</th>\n",
       "      <th>acor</th>\n",
       "      <th>sweet</th>\n",
       "      <th>twistweight</th>\n",
       "      <th>hittingweight</th>\n",
       "    </tr>\n",
       "  </thead>\n",
       "  <tbody>\n",
       "    <tr>\n",
       "      <th>headsize</th>\n",
       "      <td>1.000000</td>\n",
       "      <td>0.544682</td>\n",
       "      <td>-0.579660</td>\n",
       "      <td>0.532460</td>\n",
       "      <td>-0.278286</td>\n",
       "      <td>0.207810</td>\n",
       "      <td>0.004165</td>\n",
       "      <td>-0.111226</td>\n",
       "      <td>0.460686</td>\n",
       "      <td>0.014621</td>\n",
       "    </tr>\n",
       "    <tr>\n",
       "      <th>length</th>\n",
       "      <td>0.544682</td>\n",
       "      <td>1.000000</td>\n",
       "      <td>-0.308605</td>\n",
       "      <td>0.453198</td>\n",
       "      <td>0.073067</td>\n",
       "      <td>0.220969</td>\n",
       "      <td>0.254447</td>\n",
       "      <td>0.167718</td>\n",
       "      <td>0.387580</td>\n",
       "      <td>0.256845</td>\n",
       "    </tr>\n",
       "    <tr>\n",
       "      <th>weight</th>\n",
       "      <td>-0.579660</td>\n",
       "      <td>-0.308605</td>\n",
       "      <td>1.000000</td>\n",
       "      <td>-0.804170</td>\n",
       "      <td>0.705995</td>\n",
       "      <td>-0.321070</td>\n",
       "      <td>0.528233</td>\n",
       "      <td>0.590749</td>\n",
       "      <td>0.042469</td>\n",
       "      <td>0.536721</td>\n",
       "    </tr>\n",
       "    <tr>\n",
       "      <th>balance</th>\n",
       "      <td>0.532460</td>\n",
       "      <td>0.453198</td>\n",
       "      <td>-0.804170</td>\n",
       "      <td>1.000000</td>\n",
       "      <td>-0.372815</td>\n",
       "      <td>0.369001</td>\n",
       "      <td>-0.174672</td>\n",
       "      <td>-0.265760</td>\n",
       "      <td>0.147703</td>\n",
       "      <td>-0.179271</td>\n",
       "    </tr>\n",
       "    <tr>\n",
       "      <th>swingweight</th>\n",
       "      <td>-0.278286</td>\n",
       "      <td>0.073067</td>\n",
       "      <td>0.705995</td>\n",
       "      <td>-0.372815</td>\n",
       "      <td>1.000000</td>\n",
       "      <td>-0.205371</td>\n",
       "      <td>0.872251</td>\n",
       "      <td>0.891383</td>\n",
       "      <td>0.315284</td>\n",
       "      <td>0.883693</td>\n",
       "    </tr>\n",
       "    <tr>\n",
       "      <th>flex</th>\n",
       "      <td>0.207810</td>\n",
       "      <td>0.220969</td>\n",
       "      <td>-0.321070</td>\n",
       "      <td>0.369001</td>\n",
       "      <td>-0.205371</td>\n",
       "      <td>1.000000</td>\n",
       "      <td>-0.109569</td>\n",
       "      <td>-0.115269</td>\n",
       "      <td>0.039960</td>\n",
       "      <td>-0.100604</td>\n",
       "    </tr>\n",
       "    <tr>\n",
       "      <th>acor</th>\n",
       "      <td>0.004165</td>\n",
       "      <td>0.254447</td>\n",
       "      <td>0.528233</td>\n",
       "      <td>-0.174672</td>\n",
       "      <td>0.872251</td>\n",
       "      <td>-0.109569</td>\n",
       "      <td>1.000000</td>\n",
       "      <td>0.948261</td>\n",
       "      <td>0.682405</td>\n",
       "      <td>0.984932</td>\n",
       "    </tr>\n",
       "    <tr>\n",
       "      <th>sweet</th>\n",
       "      <td>-0.111226</td>\n",
       "      <td>0.167718</td>\n",
       "      <td>0.590749</td>\n",
       "      <td>-0.265760</td>\n",
       "      <td>0.891383</td>\n",
       "      <td>-0.115269</td>\n",
       "      <td>0.948261</td>\n",
       "      <td>1.000000</td>\n",
       "      <td>0.556640</td>\n",
       "      <td>0.935083</td>\n",
       "    </tr>\n",
       "    <tr>\n",
       "      <th>twistweight</th>\n",
       "      <td>0.460686</td>\n",
       "      <td>0.387580</td>\n",
       "      <td>0.042469</td>\n",
       "      <td>0.147703</td>\n",
       "      <td>0.315284</td>\n",
       "      <td>0.039960</td>\n",
       "      <td>0.682405</td>\n",
       "      <td>0.556640</td>\n",
       "      <td>1.000000</td>\n",
       "      <td>0.685840</td>\n",
       "    </tr>\n",
       "    <tr>\n",
       "      <th>hittingweight</th>\n",
       "      <td>0.014621</td>\n",
       "      <td>0.256845</td>\n",
       "      <td>0.536721</td>\n",
       "      <td>-0.179271</td>\n",
       "      <td>0.883693</td>\n",
       "      <td>-0.100604</td>\n",
       "      <td>0.984932</td>\n",
       "      <td>0.935083</td>\n",
       "      <td>0.685840</td>\n",
       "      <td>1.000000</td>\n",
       "    </tr>\n",
       "  </tbody>\n",
       "</table>\n",
       "</div>"
      ],
      "text/plain": [
       "               headsize    length    weight   balance  swingweight      flex  \\\n",
       "headsize       1.000000  0.544682 -0.579660  0.532460    -0.278286  0.207810   \n",
       "length         0.544682  1.000000 -0.308605  0.453198     0.073067  0.220969   \n",
       "weight        -0.579660 -0.308605  1.000000 -0.804170     0.705995 -0.321070   \n",
       "balance        0.532460  0.453198 -0.804170  1.000000    -0.372815  0.369001   \n",
       "swingweight   -0.278286  0.073067  0.705995 -0.372815     1.000000 -0.205371   \n",
       "flex           0.207810  0.220969 -0.321070  0.369001    -0.205371  1.000000   \n",
       "acor           0.004165  0.254447  0.528233 -0.174672     0.872251 -0.109569   \n",
       "sweet         -0.111226  0.167718  0.590749 -0.265760     0.891383 -0.115269   \n",
       "twistweight    0.460686  0.387580  0.042469  0.147703     0.315284  0.039960   \n",
       "hittingweight  0.014621  0.256845  0.536721 -0.179271     0.883693 -0.100604   \n",
       "\n",
       "                   acor     sweet  twistweight  hittingweight  \n",
       "headsize       0.004165 -0.111226     0.460686       0.014621  \n",
       "length         0.254447  0.167718     0.387580       0.256845  \n",
       "weight         0.528233  0.590749     0.042469       0.536721  \n",
       "balance       -0.174672 -0.265760     0.147703      -0.179271  \n",
       "swingweight    0.872251  0.891383     0.315284       0.883693  \n",
       "flex          -0.109569 -0.115269     0.039960      -0.100604  \n",
       "acor           1.000000  0.948261     0.682405       0.984932  \n",
       "sweet          0.948261  1.000000     0.556640       0.935083  \n",
       "twistweight    0.682405  0.556640     1.000000       0.685840  \n",
       "hittingweight  0.984932  0.935083     0.685840       1.000000  "
      ]
     },
     "execution_count": 7,
     "metadata": {},
     "output_type": "execute_result"
    }
   ],
   "source": [
    "df.corr('spearman')"
   ]
  },
  {
   "cell_type": "code",
   "execution_count": 8,
   "metadata": {},
   "outputs": [],
   "source": [
    "X = normal_length_racquets[['length','flex','weight', 'balance']]\n",
    "y = normal_length_racquets['swingweight']\n",
    "\n",
    "# X_train_mean = X.mean()\n",
    "# X_train_sd = X.std()\n",
    "\n",
    "# y_train_mean = y.mean()\n",
    "# y_train_sd = y.std()\n",
    "\n",
    "# X = (X - X.mean())/X.std()\n",
    "# y = (y - y.mean())/y.std()"
   ]
  },
  {
   "cell_type": "code",
   "execution_count": 9,
   "metadata": {},
   "outputs": [
    {
     "name": "stdout",
     "output_type": "stream",
     "text": [
      "[0.96773561 0.03113927 0.00106929]\n"
     ]
    }
   ],
   "source": [
    "from sklearn.decomposition import PCA\n",
    "pca = PCA(n_components=3).fit(X)\n",
    "print(pca.explained_variance_ratio_)\n",
    "\n"
   ]
  },
  {
   "cell_type": "code",
   "execution_count": 10,
   "metadata": {},
   "outputs": [],
   "source": [
    "import seaborn as sns\n",
    "import matplotlib.pyplot as plt\n",
    "%matplotlib inline\n",
    "\n",
    "\n",
    "seaborn_data = pd.concat([X,y], axis=1)"
   ]
  },
  {
   "cell_type": "code",
   "execution_count": 11,
   "metadata": {},
   "outputs": [
    {
     "data": {
      "image/png": "[encoded data removed]",
      "text/plain": [
       "<Figure size 360x360 with 1 Axes>"
      ]
     },
     "metadata": {
      "needs_background": "light"
     },
     "output_type": "display_data"
    }
   ],
   "source": [
    "sns.lmplot(x=\"weight\", \n",
    "           y=\"swingweight\", \n",
    "           data=seaborn_data, x_jitter=.05);"
   ]
  },
  {
   "cell_type": "code",
   "execution_count": 12,
   "metadata": {},
   "outputs": [
    {
     "data": {
      "image/png": "[encoded data removed]",
      "text/plain": [
       "<Figure size 360x360 with 1 Axes>"
      ]
     },
     "metadata": {
      "needs_background": "light"
     },
     "output_type": "display_data"
    }
   ],
   "source": [
    "sns.lmplot(x=\"flex\", y=\"swingweight\", data=seaborn_data, x_jitter=.05);"
   ]
  },
  {
   "cell_type": "code",
   "execution_count": 13,
   "metadata": {},
   "outputs": [
    {
     "data": {
      "image/png": "[encoded data removed]",
      "text/plain": [
       "<Figure size 360x360 with 1 Axes>"
      ]
     },
     "metadata": {
      "needs_background": "light"
     },
     "output_type": "display_data"
    }
   ],
   "source": [
    "sns.lmplot(x=\"balance\", y=\"swingweight\", data=seaborn_data);"
   ]
  },
  {
   "cell_type": "code",
   "execution_count": 14,
   "metadata": {},
   "outputs": [
    {
     "data": {
      "image/png": "[encoded data removed]",
      "text/plain": [
       "<Figure size 360x360 with 1 Axes>"
      ]
     },
     "metadata": {
      "needs_background": "light"
     },
     "output_type": "display_data"
    }
   ],
   "source": [
    "sns.lmplot(x=\"length\", y=\"swingweight\", data=seaborn_data);"
   ]
  },
  {
   "cell_type": "code",
   "execution_count": 15,
   "metadata": {},
   "outputs": [],
   "source": [
    "from sklearn import metrics\n",
    "import numpy as np\n",
    "\n",
    "def calculate_metrics(y_true, y_pred):\n",
    "    mae = metrics.mean_absolute_error(y_true, y_pred)\n",
    "    mse = metrics.mean_squared_error(y_true, y_pred)\n",
    "    med_ae = metrics.median_absolute_error(y_true, y_pred)\n",
    "    mape = metrics.mean_absolute_percentage_error(y_true, y_pred)\n",
    "    \n",
    "    print(\"mean_absolute_error\", mae)\n",
    "    print(\"mean_squared_error\", mse)\n",
    "    print(\"RMSE\", np.sqrt(mse))\n",
    "    print(\"median_absolute_error\", med_ae)\n",
    "    print(\"mean_absolute_percentage_error\", mape)\n",
    "    \n",
    "\n",
    "def evaluate_model(model):\n",
    "    model = model.fit(X_train, y_train)\n",
    "    print(\"train_score\", model.score(X_train, y_train))\n",
    "    print(\"test_score\", model.score(X_test, y_test))\n",
    "    y_pred = model.predict(X_test)\n",
    "    calculate_metrics(y_test, y_pred)\n",
    "    plt.hist(y_test-y_pred, bins=70)\n",
    "    return model\n",
    "\n",
    "\n",
    "def predict(model, flex, weight, balance, length):\n",
    "    model = model.fit(X_train,y_train)\n",
    "    sample = np.array([[length, flex, weight, balance]])\n",
    "    return model.predict(sample) "
   ]
  },
  {
   "cell_type": "code",
   "execution_count": 16,
   "metadata": {},
   "outputs": [],
   "source": [
    "from sklearn.model_selection import train_test_split\n",
    "\n",
    "X_train, X_test, y_train, y_test = train_test_split(X, y, test_size=0.2, random_state=42)"
   ]
  },
  {
   "cell_type": "code",
   "execution_count": 17,
   "metadata": {},
   "outputs": [
    {
     "name": "stdout",
     "output_type": "stream",
     "text": [
      "train_score 0.7664608021453823\n",
      "test_score 0.5808288118752372\n",
      "mean_absolute_error 4.642975866432245\n",
      "mean_squared_error 48.65508898477251\n",
      "RMSE 6.975319991568309\n",
      "median_absolute_error 2.672829276663151\n",
      "mean_absolute_percentage_error 0.01470078060922299\n"
     ]
    },
    {
     "data": {
      "text/plain": [
       "LinearRegression()"
      ]
     },
     "execution_count": 17,
     "metadata": {},
     "output_type": "execute_result"
    },
    {
     "data": {
      "image/png": "[encoded data removed]",
      "text/plain": [
       "<Figure size 432x288 with 1 Axes>"
      ]
     },
     "metadata": {
      "needs_background": "light"
     },
     "output_type": "display_data"
    }
   ],
   "source": [
    "from sklearn.linear_model import LinearRegression,BayesianRidge\n",
    "evaluate_model(LinearRegression())    \n"
   ]
  },
  {
   "cell_type": "code",
   "execution_count": 18,
   "metadata": {},
   "outputs": [],
   "source": [
    "#predict(LinearRegression(), 68, 357, 31.4)"
   ]
  },
  {
   "cell_type": "code",
   "execution_count": 19,
   "metadata": {},
   "outputs": [
    {
     "name": "stdout",
     "output_type": "stream",
     "text": [
      "train_score 0.7656638417668057\n",
      "test_score 0.5801063785889211\n",
      "mean_absolute_error 4.61375401455635\n",
      "mean_squared_error 48.738945072278234\n",
      "RMSE 6.981328317181354\n",
      "median_absolute_error 2.6429101857960973\n",
      "mean_absolute_percentage_error 0.01460718890794064\n"
     ]
    },
    {
     "data": {
      "text/plain": [
       "array([12.72407368, -0.2968122 ,  0.80230372,  6.92254343])"
      ]
     },
     "execution_count": 19,
     "metadata": {},
     "output_type": "execute_result"
    },
    {
     "data": {
      "image/png": "[encoded data removed]",
      "text/plain": [
       "<Figure size 432x288 with 1 Axes>"
      ]
     },
     "metadata": {
      "needs_background": "light"
     },
     "output_type": "display_data"
    }
   ],
   "source": [
    "evaluate_model(BayesianRidge()).coef_    \n"
   ]
  },
  {
   "cell_type": "code",
   "execution_count": 20,
   "metadata": {},
   "outputs": [
    {
     "data": {
      "text/plain": [
       "array([339.94239752])"
      ]
     },
     "execution_count": 20,
     "metadata": {},
     "output_type": "execute_result"
    }
   ],
   "source": [
    "predict(BayesianRidge(), 68, 357, 31.4,27)"
   ]
  },
  {
   "cell_type": "code",
   "execution_count": 21,
   "metadata": {},
   "outputs": [
    {
     "name": "stdout",
     "output_type": "stream",
     "text": [
      "train_score 0.7664389645536746\n",
      "test_score 0.5808306913864596\n",
      "mean_absolute_error 4.638095596667355\n",
      "mean_squared_error 48.65487082143408\n",
      "RMSE 6.975304353319221\n",
      "median_absolute_error 2.6675439470343463\n",
      "mean_absolute_percentage_error 0.014685120845601102\n"
     ]
    },
    {
     "data": {
      "image/png": "[encoded data removed]",
      "text/plain": [
       "<Figure size 432x288 with 1 Axes>"
      ]
     },
     "metadata": {
      "needs_background": "light"
     },
     "output_type": "display_data"
    }
   ],
   "source": [
    "from sklearn.linear_model import RidgeCV\n",
    "\n",
    "ridge = evaluate_model(RidgeCV(alphas=[1e-3, 1e-2, 1e-1, 1]))    \n"
   ]
  },
  {
   "cell_type": "code",
   "execution_count": 22,
   "metadata": {},
   "outputs": [
    {
     "data": {
      "text/plain": [
       "array([14.56803487, -0.30264194,  0.79822587,  6.69519732])"
      ]
     },
     "execution_count": 22,
     "metadata": {},
     "output_type": "execute_result"
    }
   ],
   "source": [
    "ridge.coef_"
   ]
  },
  {
   "cell_type": "code",
   "execution_count": 23,
   "metadata": {},
   "outputs": [
    {
     "data": {
      "text/plain": [
       "array([339.98896344])"
      ]
     },
     "execution_count": 23,
     "metadata": {},
     "output_type": "execute_result"
    }
   ],
   "source": [
    "predict(RidgeCV(alphas=[1e-3, 1e-2, 1e-1, 1]), 68, 357, 31.4,27)"
   ]
  },
  {
   "cell_type": "code",
   "execution_count": 24,
   "metadata": {},
   "outputs": [
    {
     "name": "stdout",
     "output_type": "stream",
     "text": [
      "train_score 0.7164185727076691\n",
      "test_score 0.5516171477743119\n",
      "mean_absolute_error 4.9629357551387505\n",
      "mean_squared_error 52.04581849216595\n",
      "RMSE 7.214278792240147\n",
      "median_absolute_error 3.2114978165165553\n",
      "mean_absolute_percentage_error 0.01578331042452701\n"
     ]
    },
    {
     "data": {
      "text/plain": [
       "ElasticNetCV(cv=5, random_state=0)"
      ]
     },
     "execution_count": 24,
     "metadata": {},
     "output_type": "execute_result"
    },
    {
     "data": {
      "image/png": "[encoded data removed]",
      "text/plain": [
       "<Figure size 432x288 with 1 Axes>"
      ]
     },
     "metadata": {
      "needs_background": "light"
     },
     "output_type": "display_data"
    }
   ],
   "source": [
    "from sklearn.linear_model import ElasticNetCV\n",
    "evaluate_model(ElasticNetCV(cv=5, random_state=0))    \n"
   ]
  },
  {
   "cell_type": "code",
   "execution_count": 25,
   "metadata": {},
   "outputs": [
    {
     "data": {
      "text/plain": [
       "array([339.0051593])"
      ]
     },
     "execution_count": 25,
     "metadata": {},
     "output_type": "execute_result"
    }
   ],
   "source": [
    "predict(ElasticNetCV(cv=5, random_state=0), 68, 357, 31.4,27)"
   ]
  },
  {
   "cell_type": "code",
   "execution_count": 26,
   "metadata": {},
   "outputs": [
    {
     "name": "stdout",
     "output_type": "stream",
     "text": [
      "train_score 0.5472907561006923\n",
      "test_score 0.17711812171740016\n",
      "mean_absolute_error 7.85167104911476\n",
      "mean_squared_error 95.51560829099694\n",
      "RMSE 9.773208699858861\n",
      "median_absolute_error 6.847289393793687\n",
      "mean_absolute_percentage_error 0.02515264354340757\n"
     ]
    },
    {
     "name": "stderr",
     "output_type": "stream",
     "text": [
      "/Library/Frameworks/Python.framework/Versions/3.7/lib/python3.7/site-packages/sklearn/svm/_base.py:986: ConvergenceWarning: Liblinear failed to converge, increase the number of iterations.\n",
      "  \"the number of iterations.\", ConvergenceWarning)\n"
     ]
    },
    {
     "data": {
      "text/plain": [
       "LinearSVR()"
      ]
     },
     "execution_count": 26,
     "metadata": {},
     "output_type": "execute_result"
    },
    {
     "data": {
      "image/png": "[encoded data removed]",
      "text/plain": [
       "<Figure size 432x288 with 1 Axes>"
      ]
     },
     "metadata": {
      "needs_background": "light"
     },
     "output_type": "display_data"
    }
   ],
   "source": [
    "from sklearn import svm\n",
    "evaluate_model(svm.LinearSVR())    \n"
   ]
  },
  {
   "cell_type": "code",
   "execution_count": 27,
   "metadata": {},
   "outputs": [
    {
     "name": "stdout",
     "output_type": "stream",
     "text": [
      "train_score -3.9186518255156804\n",
      "test_score -6.966772166949599\n",
      "mean_absolute_error 28.963141211454573\n",
      "mean_squared_error 924.7391511769853\n",
      "RMSE 30.409524020888345\n",
      "median_absolute_error 28.26993639168836\n",
      "mean_absolute_percentage_error 0.09198129947195102\n"
     ]
    },
    {
     "data": {
      "text/plain": [
       "SGDRegressor(loss='huber')"
      ]
     },
     "execution_count": 27,
     "metadata": {},
     "output_type": "execute_result"
    },
    {
     "data": {
      "image/png": "[encoded data removed]",
      "text/plain": [
       "<Figure size 432x288 with 1 Axes>"
      ]
     },
     "metadata": {
      "needs_background": "light"
     },
     "output_type": "display_data"
    }
   ],
   "source": [
    "from sklearn.linear_model import SGDRegressor\n",
    "evaluate_model(SGDRegressor(loss=\"huber\"))    \n"
   ]
  },
  {
   "cell_type": "code",
   "execution_count": 28,
   "metadata": {},
   "outputs": [
    {
     "name": "stdout",
     "output_type": "stream",
     "text": [
      "train_score 0.9967354078855009\n",
      "test_score -178.25928475728372\n",
      "mean_absolute_error 103.03729665242659\n",
      "mean_squared_error 20807.433092506155\n",
      "RMSE 144.24781832841063\n",
      "median_absolute_error 97.06560944956667\n",
      "mean_absolute_percentage_error 0.32905671221628496\n"
     ]
    },
    {
     "data": {
      "text/plain": [
       "GaussianProcessRegressor()"
      ]
     },
     "execution_count": 28,
     "metadata": {},
     "output_type": "execute_result"
    },
    {
     "data": {
      "image/png": "[encoded data removed]",
      "text/plain": [
       "<Figure size 432x288 with 1 Axes>"
      ]
     },
     "metadata": {
      "needs_background": "light"
     },
     "output_type": "display_data"
    }
   ],
   "source": [
    "from sklearn.gaussian_process import GaussianProcessRegressor\n",
    "evaluate_model(GaussianProcessRegressor())    \n"
   ]
  },
  {
   "cell_type": "code",
   "execution_count": 29,
   "metadata": {},
   "outputs": [
    {
     "name": "stdout",
     "output_type": "stream",
     "text": [
      "train_score 0.9967354078855101\n",
      "test_score 0.6458472304381206\n",
      "mean_absolute_error 3.7567567567567566\n",
      "mean_squared_error 41.108108108108105\n",
      "RMSE 6.411560504908934\n",
      "median_absolute_error 2.0\n",
      "mean_absolute_percentage_error 0.012167946260849586\n"
     ]
    },
    {
     "data": {
      "text/plain": [
       "DecisionTreeRegressor()"
      ]
     },
     "execution_count": 29,
     "metadata": {},
     "output_type": "execute_result"
    },
    {
     "data": {
      "image/png": "[encoded data removed]",
      "text/plain": [
       "<Figure size 432x288 with 1 Axes>"
      ]
     },
     "metadata": {
      "needs_background": "light"
     },
     "output_type": "display_data"
    }
   ],
   "source": [
    "from sklearn import tree\n",
    "evaluate_model(tree.DecisionTreeRegressor())    "
   ]
  },
  {
   "cell_type": "code",
   "execution_count": 30,
   "metadata": {},
   "outputs": [
    {
     "name": "stdout",
     "output_type": "stream",
     "text": [
      "train_score 0.8118651434757043\n",
      "test_score 0.6591910369573071\n",
      "mean_absolute_error 4.767711911376241\n",
      "mean_squared_error 39.55923234569917\n",
      "RMSE 6.289613052143921\n",
      "median_absolute_error 3.775510204081627\n",
      "mean_absolute_percentage_error 0.015196167848163073\n"
     ]
    },
    {
     "data": {
      "text/plain": [
       "AdaBoostRegressor(loss='square', n_estimators=300)"
      ]
     },
     "execution_count": 30,
     "metadata": {},
     "output_type": "execute_result"
    },
    {
     "data": {
      "image/png": "[encoded data removed]",
      "text/plain": [
       "<Figure size 432x288 with 1 Axes>"
      ]
     },
     "metadata": {
      "needs_background": "light"
     },
     "output_type": "display_data"
    }
   ],
   "source": [
    "from sklearn.ensemble import AdaBoostRegressor, GradientBoostingRegressor,RandomForestRegressor\n",
    "evaluate_model(AdaBoostRegressor(n_estimators=300, loss=\"square\"))    "
   ]
  },
  {
   "cell_type": "code",
   "execution_count": 31,
   "metadata": {},
   "outputs": [
    {
     "data": {
      "text/plain": [
       "array([330.])"
      ]
     },
     "execution_count": 31,
     "metadata": {},
     "output_type": "execute_result"
    }
   ],
   "source": [
    "predict(AdaBoostRegressor(n_estimators=300, loss=\"square\"), 68, 357, 31.4,27)"
   ]
  },
  {
   "cell_type": "code",
   "execution_count": 32,
   "metadata": {},
   "outputs": [
    {
     "name": "stdout",
     "output_type": "stream",
     "text": [
      "train_score 0.8830575568220647\n",
      "test_score 0.716293261835452\n",
      "mean_absolute_error 3.966023835695457\n",
      "mean_squared_error 32.93111974782735\n",
      "RMSE 5.738564258403608\n",
      "median_absolute_error 2.894920602088291\n",
      "mean_absolute_percentage_error 0.012622907115668915\n"
     ]
    },
    {
     "data": {
      "text/plain": [
       "GradientBoostingRegressor(loss='lad', random_state=42)"
      ]
     },
     "execution_count": 32,
     "metadata": {},
     "output_type": "execute_result"
    },
    {
     "data": {
      "image/png": "[encoded data removed]",
      "text/plain": [
       "<Figure size 432x288 with 1 Axes>"
      ]
     },
     "metadata": {
      "needs_background": "light"
     },
     "output_type": "display_data"
    }
   ],
   "source": [
    "evaluate_model(GradientBoostingRegressor(\n",
    "    loss=\"lad\",\n",
    "    n_estimators=100,\n",
    "    random_state=42\n",
    "))    "
   ]
  },
  {
   "cell_type": "code",
   "execution_count": 33,
   "metadata": {},
   "outputs": [
    {
     "data": {
      "text/plain": [
       "array([331.3062677])"
      ]
     },
     "execution_count": 33,
     "metadata": {},
     "output_type": "execute_result"
    }
   ],
   "source": [
    "predict(GradientBoostingRegressor(\n",
    "    loss=\"lad\",\n",
    "    n_estimators=100,\n",
    "    random_state=42\n",
    "), 68, 357, 31.4,27)"
   ]
  },
  {
   "cell_type": "code",
   "execution_count": 34,
   "metadata": {},
   "outputs": [
    {
     "name": "stdout",
     "output_type": "stream",
     "text": [
      "train_score 0.9520710376329897\n",
      "test_score 0.7443318315938354\n",
      "mean_absolute_error 3.6394594594594616\n",
      "mean_squared_error 29.67655658783783\n",
      "RMSE 5.447619350490435\n",
      "median_absolute_error 2.566250000000025\n",
      "mean_absolute_percentage_error 0.011617058675692932\n"
     ]
    },
    {
     "data": {
      "text/plain": [
       "RandomForestRegressor(criterion='mae', n_estimators=400, random_state=42)"
      ]
     },
     "execution_count": 34,
     "metadata": {},
     "output_type": "execute_result"
    },
    {
     "data": {
      "image/png": "[encoded data removed]",
      "text/plain": [
       "<Figure size 432x288 with 1 Axes>"
      ]
     },
     "metadata": {
      "needs_background": "light"
     },
     "output_type": "display_data"
    }
   ],
   "source": [
    "evaluate_model(RandomForestRegressor(\n",
    "    n_estimators=400,\n",
    "    criterion=\"mae\",\n",
    "    random_state=42))    "
   ]
  },
  {
   "cell_type": "code",
   "execution_count": 35,
   "metadata": {},
   "outputs": [
    {
     "data": {
      "text/plain": [
       "array([338.51])"
      ]
     },
     "execution_count": 35,
     "metadata": {},
     "output_type": "execute_result"
    }
   ],
   "source": [
    "clf = RandomForestRegressor(\n",
    "    n_estimators=400,\n",
    "    criterion=\"mae\",\n",
    "    random_state=42).fit(X_train,y_train)\n",
    "predict(RandomForestRegressor(\n",
    "    n_estimators=400,\n",
    "    criterion=\"mae\",\n",
    "    random_state=42), 68, 357, 31.4,27)"
   ]
  },
  {
   "cell_type": "code",
   "execution_count": 36,
   "metadata": {},
   "outputs": [
    {
     "name": "stdout",
     "output_type": "stream",
     "text": [
      "train_score 0.7597835351784147\n",
      "test_score 0.5763440616502316\n",
      "mean_absolute_error 4.670828633282813\n",
      "mean_squared_error 49.175654155886264\n",
      "RMSE 7.0125355012211\n",
      "median_absolute_error 2.699694471956434\n",
      "mean_absolute_percentage_error 0.014786631742337769\n"
     ]
    },
    {
     "data": {
      "image/png": "[encoded data removed]",
      "text/plain": [
       "<Figure size 432x288 with 1 Axes>"
      ]
     },
     "metadata": {
      "needs_background": "light"
     },
     "output_type": "display_data"
    }
   ],
   "source": [
    "from sklearn.linear_model import LassoCV\n",
    "las = evaluate_model(LassoCV()) "
   ]
  },
  {
   "cell_type": "code",
   "execution_count": 37,
   "metadata": {},
   "outputs": [
    {
     "data": {
      "text/plain": [
       "array([ 8.743545  , -0.26599214,  0.80047579,  7.19537646])"
      ]
     },
     "execution_count": 37,
     "metadata": {},
     "output_type": "execute_result"
    }
   ],
   "source": [
    "las.coef_"
   ]
  }
 ],
 "metadata": {
  "kernelspec": {
   "display_name": "Python 3",
   "language": "python",
   "name": "python3"
  },
  "language_info": {
   "codemirror_mode": {
    "name": "ipython",
    "version": 3
   },
   "file_extension": ".py",
   "mimetype": "text/x-python",
   "name": "python",
   "nbconvert_exporter": "python",
   "pygments_lexer": "ipython3",
   "version": "3.7.9"
  }
 },
 "nbformat": 4,
 "nbformat_minor": 4
}
